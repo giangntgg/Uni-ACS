{
 "cells": [
  {
   "cell_type": "code",
   "execution_count": 1,
   "id": "af61d37a",
   "metadata": {},
   "outputs": [],
   "source": [
    "import pandas as pd\n",
    "from sklearn.pipeline import make_pipeline\n",
    "\n",
    "from sklearn.model_selection import train_test_split\n",
    "\n",
    "seed = 7\n",
    "\n",
    "data = pd.read_csv('data/sepsis_final.csv').drop(['Unnamed: 0', 'SUBJECT_ID', 'HADM_ID'], axis=1)\n",
    "data['Gender'] = data['Gender'].apply(lambda x: 1 if x == 'M' else 0)\n",
    "\n",
    "X = data.drop(['28 Day Death', 'In Hospital Death'], axis=1)\n",
    "y = data['28 Day Death']\n",
    "\n",
    "for column in X.columns:\n",
    "    X[column] = pd.to_numeric(X[column])\n",
    "    X[column] = X[column].fillna(X[column].mean())\n",
    "\n",
    "X_train, X_test, y_train, y_test = train_test_split(\n",
    "    X, y, test_size=0.3, random_state=seed)\n"
   ]
  },
  {
   "cell_type": "code",
   "execution_count": 2,
   "id": "e87026d0",
   "metadata": {},
   "outputs": [
    {
     "name": "stdout",
     "output_type": "stream",
     "text": [
      "ROC AUC: 0.876788578470907\n",
      "Average Precision: 0.8337224543720853\n",
      "Accuracy: 0.7988295537673739\n"
     ]
    }
   ],
   "source": [
    "from sklearn.ensemble import GradientBoostingClassifier\n",
    "from sklearn.metrics import roc_auc_score\n",
    "from sklearn.metrics import average_precision_score\n",
    "from sklearn.metrics import accuracy_score\n",
    "\n",
    "clf = GradientBoostingClassifier(n_estimators=220, max_depth=7, random_state=seed).fit(X_train, y_train)\n",
    "\n",
    "roc_auc = roc_auc_score(y_test, clf.predict_proba(X_test)[:, 1])\n",
    "print(\"ROC AUC: \" + str(roc_auc))\n",
    "\n",
    "average_precision = average_precision_score(y_test, clf.predict_proba(X_test)[:, 1])\n",
    "print(\"Average Precision: \" + str(average_precision))\n",
    "\n",
    "accuracy = accuracy_score(y_test, clf.predict(X_test))\n",
    "print(\"Accuracy: \" + str(accuracy))"
   ]
  },
  {
   "cell_type": "code",
   "execution_count": 3,
   "id": "507fa4f1",
   "metadata": {},
   "outputs": [
    {
     "name": "stderr",
     "output_type": "stream",
     "text": [
      "/home/llja/anaconda3/envs/medical/lib/python3.9/site-packages/tqdm/auto.py:22: TqdmWarning: IProgress not found. Please update jupyter and ipywidgets. See https://ipywidgets.readthedocs.io/en/stable/user_install.html\n",
      "  from .autonotebook import tqdm as notebook_tqdm\n"
     ]
    },
    {
     "data": {
      "text/plain": [
       "<module 'medical_explainer' from '/home/llja/repos/medical_explainer/medical_explainer.py'>"
      ]
     },
     "execution_count": 3,
     "metadata": {},
     "output_type": "execute_result"
    }
   ],
   "source": [
    "import importlib\n",
    "import medical_explainer\n",
    "importlib.reload(medical_explainer)"
   ]
  },
  {
   "cell_type": "code",
   "execution_count": 4,
   "id": "e235305b",
   "metadata": {},
   "outputs": [
    {
     "name": "stdout",
     "output_type": "stream",
     "text": [
      "| Step 1  ==> Calibrating model\n"
     ]
    },
    {
     "data": {
      "image/png": "[encoded data removed]",
      "text/plain": [
       "<Figure size 432x288 with 1 Axes>"
      ]
     },
     "metadata": {
      "needs_background": "light"
     },
     "output_type": "display_data"
    },
    {
     "data": {
      "image/png": "[encoded data removed]",
      "text/plain": [
       "<Figure size 432x288 with 1 Axes>"
      ]
     },
     "metadata": {
      "needs_background": "light"
     },
     "output_type": "display_data"
    },
    {
     "data": {
      "image/png": "[encoded data removed]",
      "text/plain": [
       "<Figure size 432x288 with 1 Axes>"
      ]
     },
     "metadata": {
      "needs_background": "light"
     },
     "output_type": "display_data"
    },
    {
     "data": {
      "image/png": "[encoded data removed]",
      "text/plain": [
       "<Figure size 432x288 with 1 Axes>"
      ]
     },
     "metadata": {
      "needs_background": "light"
     },
     "output_type": "display_data"
    },
    {
     "name": "stdout",
     "output_type": "stream",
     "text": [
      "ROC AUC: 0.876788578470907\n",
      "Average Precision: 0.8337224543720853\n",
      "Accuracy: 0.7988295537673739\n",
      "ROC AUC: 0.8820897483530126\n",
      "Average Precision: 0.8445515519385619\n",
      "Accuracy: 0.8024871982443307\n",
      "\n",
      "| Step 2 ==> Calculate SHAP values\n",
      "\n",
      "| Step 3 ==> Fit clinical score calculator\n",
      "Novel fitting\n",
      "\n",
      "\n",
      "Probability threshold: 0.1\n",
      "Score threshold: 30.0\n",
      "\n",
      "Probability threshold: 0.5\n",
      "Score threshold: 51.0\n",
      "\n",
      "Probability threshold: 0.9\n",
      "Score threshold: 71.0\n",
      "\n"
     ]
    }
   ],
   "source": [
    "explainer = medical_explainer.explainer(\n",
    "    clf, X_train, y_train, X_test, y_test)\n",
    "\n",
    "explainer.fit(10, shap_method='tree', method='novel')\n",
    "\n",
    "# explainer.plot_calibration_original()\n",
    "# explainer.calibrate()\n",
    "# explainer.plot_calibration_calibrated()"
   ]
  },
  {
   "cell_type": "code",
   "execution_count": 5,
   "id": "3bac44dd",
   "metadata": {},
   "outputs": [
    {
     "data": {
      "text/plain": [
       "[array([14., -9.]),\n",
       " array([-5.,  6.]),\n",
       " array([-4.,  7.]),\n",
       " array([-4.,  7.]),\n",
       " array([-5.,  3.]),\n",
       " array([ 7., -2.,  5.]),\n",
       " array([-3.,  2.]),\n",
       " array([-3.,  2.]),\n",
       " array([ 3., -2.]),\n",
       " array([ 1., -1.,  8.])]"
      ]
     },
     "execution_count": 5,
     "metadata": {},
     "output_type": "execute_result"
    }
   ],
   "source": [
    "explainer.score_array_list"
   ]
  },
  {
   "cell_type": "code",
   "execution_count": 6,
   "id": "dffb8c22",
   "metadata": {},
   "outputs": [
    {
     "data": {
      "text/plain": [
       "[[-0.3222222222222222, 8.566998804258343, 294.66041666666666],\n",
       " [11.6, 15.460002265270635, 30.5],\n",
       " [0.008, 5.313735031154231, 153.928],\n",
       " [18.258726899383984, 75.68001859329284, 90.0],\n",
       " [0.0, 0.963835268962509, 3.0],\n",
       " [0.0, 384.7960179943883, 1065.9919969974367, 1773.0],\n",
       " [38.0, 305.3387911021671, 23111.0],\n",
       " [0.2, 3.472814607616721, 17.3],\n",
       " [0.0, 2.7366613748011286, 5.2],\n",
       " [0.0, 0.44799972921009656, 1.1229212692165025, 5.0]]"
      ]
     },
     "execution_count": 6,
     "metadata": {},
     "output_type": "execute_result"
    }
   ],
   "source": [
    "explainer.breakpoints_list"
   ]
  },
  {
   "cell_type": "code",
   "execution_count": 7,
   "id": "8f8b0444",
   "metadata": {},
   "outputs": [
    {
     "data": {
      "text/html": [
       "<div>\n",
       "<style scoped>\n",
       "    .dataframe tbody tr th:only-of-type {\n",
       "        vertical-align: middle;\n",
       "    }\n",
       "\n",
       "    .dataframe tbody tr th {\n",
       "        vertical-align: top;\n",
       "    }\n",
       "\n",
       "    .dataframe thead th {\n",
       "        text-align: right;\n",
       "    }\n",
       "</style>\n",
       "<table border=\"1\" class=\"dataframe\">\n",
       "  <thead>\n",
       "    <tr style=\"text-align: right;\">\n",
       "      <th></th>\n",
       "      <th>Score</th>\n",
       "      <th>Probability</th>\n",
       "    </tr>\n",
       "  </thead>\n",
       "  <tbody>\n",
       "    <tr>\n",
       "      <th>0</th>\n",
       "      <td>0.0</td>\n",
       "      <td>0.004504</td>\n",
       "    </tr>\n",
       "    <tr>\n",
       "      <th>1</th>\n",
       "      <td>1.0</td>\n",
       "      <td>0.005002</td>\n",
       "    </tr>\n",
       "    <tr>\n",
       "      <th>2</th>\n",
       "      <td>2.0</td>\n",
       "      <td>0.005556</td>\n",
       "    </tr>\n",
       "    <tr>\n",
       "      <th>3</th>\n",
       "      <td>3.0</td>\n",
       "      <td>0.006171</td>\n",
       "    </tr>\n",
       "    <tr>\n",
       "      <th>4</th>\n",
       "      <td>4.0</td>\n",
       "      <td>0.006853</td>\n",
       "    </tr>\n",
       "    <tr>\n",
       "      <th>...</th>\n",
       "      <td>...</td>\n",
       "      <td>...</td>\n",
       "    </tr>\n",
       "    <tr>\n",
       "      <th>93</th>\n",
       "      <td>93.0</td>\n",
       "      <td>0.988054</td>\n",
       "    </tr>\n",
       "    <tr>\n",
       "      <th>94</th>\n",
       "      <td>94.0</td>\n",
       "      <td>0.989237</td>\n",
       "    </tr>\n",
       "    <tr>\n",
       "      <th>95</th>\n",
       "      <td>95.0</td>\n",
       "      <td>0.990305</td>\n",
       "    </tr>\n",
       "    <tr>\n",
       "      <th>96</th>\n",
       "      <td>96.0</td>\n",
       "      <td>0.991267</td>\n",
       "    </tr>\n",
       "    <tr>\n",
       "      <th>97</th>\n",
       "      <td>97.0</td>\n",
       "      <td>0.992135</td>\n",
       "    </tr>\n",
       "  </tbody>\n",
       "</table>\n",
       "<p>98 rows × 2 columns</p>\n",
       "</div>"
      ],
      "text/plain": [
       "    Score  Probability\n",
       "0     0.0     0.004504\n",
       "1     1.0     0.005002\n",
       "2     2.0     0.005556\n",
       "3     3.0     0.006171\n",
       "4     4.0     0.006853\n",
       "..    ...          ...\n",
       "93   93.0     0.988054\n",
       "94   94.0     0.989237\n",
       "95   95.0     0.990305\n",
       "96   96.0     0.991267\n",
       "97   97.0     0.992135\n",
       "\n",
       "[98 rows x 2 columns]"
      ]
     },
     "execution_count": 7,
     "metadata": {},
     "output_type": "execute_result"
    }
   ],
   "source": [
    "explainer.scoring_table"
   ]
  },
  {
   "cell_type": "code",
   "execution_count": 8,
   "id": "3fd36b21",
   "metadata": {},
   "outputs": [],
   "source": [
    "scores,probs,predictions = explainer.predict_calculator(X_test, 1)"
   ]
  },
  {
   "cell_type": "code",
   "execution_count": 10,
   "id": "116a5579",
   "metadata": {},
   "outputs": [
    {
     "name": "stdout",
     "output_type": "stream",
     "text": [
      "ROC AUC: 0.7546339927324133\n",
      "Average Precision: 0.6646323742868273\n",
      "Accuracy: 0.709583028529627\n",
      "[[772  72]\n",
      " [325 198]]\n"
     ]
    }
   ],
   "source": [
    "from sklearn.ensemble import GradientBoostingClassifier\n",
    "from sklearn.metrics import roc_auc_score\n",
    "from sklearn.metrics import average_precision_score\n",
    "from sklearn.metrics import accuracy_score\n",
    "from sklearn.metrics import confusion_matrix\n",
    "\n",
    "roc_auc = roc_auc_score(y_test, probs)\n",
    "print(\"ROC AUC: \" + str(roc_auc))\n",
    "\n",
    "average_precision = average_precision_score(y_test, probs)\n",
    "print(\"Average Precision: \" + str(average_precision))\n",
    "\n",
    "# accuracy = accuracy_score(y_test, predictions)\n",
    "accuracy = accuracy_score(y_test, predictions)\n",
    "print(\"Accuracy: \" + str(accuracy))\n",
    "\n",
    "# print(confusion_matrix(y_test, predictions))\n",
    "print(confusion_matrix(y_test, predictions))"
   ]
  },
  {
   "cell_type": "code",
   "execution_count": null,
   "id": "643a6e45",
   "metadata": {},
   "outputs": [],
   "source": []
  }
 ],
 "metadata": {
  "kernelspec": {
   "display_name": "Python 3",
   "language": "python",
   "name": "python3"
  },
  "language_info": {
   "codemirror_mode": {
    "name": "ipython",
    "version": 3
   },
   "file_extension": ".py",
   "mimetype": "text/x-python",
   "name": "python",
   "nbconvert_exporter": "python",
   "pygments_lexer": "ipython3",
   "version": "3.9.7"
  }
 },
 "nbformat": 4,
 "nbformat_minor": 5
}
