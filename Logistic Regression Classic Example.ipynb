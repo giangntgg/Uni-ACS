{
 "cells": [
  {
   "cell_type": "code",
   "execution_count": 60,
   "id": "ab775398",
   "metadata": {},
   "outputs": [],
   "source": [
    "import pandas as pd\n",
    "from sklearn.pipeline import make_pipeline\n",
    "\n",
    "from sklearn.model_selection import train_test_split\n",
    "\n",
    "seed = 7\n",
    "\n",
    "data = pd.read_csv('data/sepsis_final.csv').drop(['Unnamed: 0', 'SUBJECT_ID', 'HADM_ID'], axis=1)\n",
    "data['Gender'] = data['Gender'].apply(lambda x: 1 if x == 'M' else 0)\n",
    "\n",
    "X = data.drop(['28 Day Death', 'In Hospital Death'], axis=1)\n",
    "y = data['28 Day Death']\n",
    "\n",
    "for column in X.columns:\n",
    "    X[column] = pd.to_numeric(X[column])\n",
    "    X[column] = X[column].fillna(X[column].mean())\n",
    "\n",
    "X_train, X_test, y_train, y_test = train_test_split(\n",
    "    X, y, test_size=0.3, random_state=seed)"
   ]
  },
  {
   "cell_type": "code",
   "execution_count": 111,
   "id": "6a4f3962",
   "metadata": {},
   "outputs": [],
   "source": [
    "import importlib\n",
    "import medical_explainer_classic\n",
    "importlib.reload(medical_explainer_classic)\n",
    "\n",
    "explainer = medical_explainer_classic.explainer(\n",
    "    X_train, y_train, X_test, y_test\n",
    ")"
   ]
  },
  {
   "cell_type": "code",
   "execution_count": 112,
   "id": "cca93728",
   "metadata": {},
   "outputs": [
    {
     "name": "stdout",
     "output_type": "stream",
     "text": [
      "| Step 1  ==> Selecting top n features\n",
      "| Step 2 ==> Transforming features based on quantiles\n",
      "| Step 3 ==> Fitting logistic regression model on transformed categories\n",
      "| Step 4 ==> Calibrating logistic regression model\n"
     ]
    },
    {
     "data": {
      "image/png": "[encoded data removed]",
      "text/plain": [
       "<Figure size 432x288 with 1 Axes>"
      ]
     },
     "metadata": {
      "needs_background": "light"
     },
     "output_type": "display_data"
    },
    {
     "data": {
      "image/png": "[encoded data removed]",
      "text/plain": [
       "<Figure size 432x288 with 1 Axes>"
      ]
     },
     "metadata": {
      "needs_background": "light"
     },
     "output_type": "display_data"
    },
    {
     "data": {
      "image/png": "[encoded data removed]",
      "text/plain": [
       "<Figure size 432x288 with 1 Axes>"
      ]
     },
     "metadata": {
      "needs_background": "light"
     },
     "output_type": "display_data"
    },
    {
     "data": {
      "image/png": "[encoded data removed]",
      "text/plain": [
       "<Figure size 432x288 with 1 Axes>"
      ]
     },
     "metadata": {
      "needs_background": "light"
     },
     "output_type": "display_data"
    },
    {
     "name": "stdout",
     "output_type": "stream",
     "text": [
      "| Step 5 ==> Fit clinical score calculator\n",
      "Fit clincal score calculator\n",
      "Score: 0\n",
      "Probability: 0.0105807081150729\n",
      "\n",
      "Score: 1\n",
      "Probability: 0.016560365013492992\n",
      "\n",
      "Score: 2\n",
      "Probability: 0.025831180853329482\n",
      "\n",
      "Score: 3\n",
      "Probability: 0.04008046071770928\n",
      "\n",
      "Score: 4\n",
      "Probability: 0.06169230391441143\n",
      "\n",
      "Score: 5\n",
      "Probability: 0.09381854998343528\n",
      "\n",
      "Score: 6\n",
      "Probability: 0.14017524701504827\n",
      "\n",
      "Score: 7\n",
      "Probability: 0.20427388015209005\n",
      "\n",
      "Score: 8\n",
      "Probability: 0.2878699697744159\n",
      "\n",
      "Score: 9\n",
      "Probability: 0.3889543081908147\n",
      "\n",
      "Score: 10\n",
      "Probability: 0.5005829783490622\n",
      "\n",
      "Score: 11\n",
      "Probability: 0.6121535629095678\n",
      "\n",
      "Score: 12\n",
      "Probability: 0.7130851724269093\n",
      "\n",
      "Score: 13\n",
      "Probability: 0.796483161374569\n",
      "\n",
      "Score: 14\n",
      "Probability: 0.8603859235620932\n",
      "\n",
      "Score: 15\n",
      "Probability: 0.9065772026159183\n",
      "\n",
      "Score: 16\n",
      "Probability: 0.9385771169448346\n",
      "\n",
      "Score: 17\n",
      "Probability: 0.9600985911284426\n",
      "\n",
      "Score: 18\n",
      "Probability: 0.9742859202406527\n",
      "\n",
      "Score: 19\n",
      "Probability: 0.9835154196530556\n",
      "\n",
      "Score: 20\n",
      "Probability: 0.9894680050956713\n",
      "\n",
      "Score: 21\n",
      "Probability: 0.9932857846434054\n",
      "\n",
      "Score: 22\n",
      "Probability: 0.9957256223357231\n",
      "\n",
      "Score: 23\n",
      "Probability: 0.9972812890135572\n",
      "\n",
      "Score: 24\n",
      "Probability: 0.998271750996242\n",
      "\n",
      "Score: 25\n",
      "Probability: 0.9989017720828652\n",
      "\n",
      "Score: 26\n",
      "Probability: 0.9993022839105679\n",
      "\n",
      "Score: 27\n",
      "Probability: 0.9995567982184576\n",
      "\n",
      "Score: 28\n",
      "Probability: 0.9997184964281337\n",
      "\n",
      "Score: 29\n",
      "Probability: 0.9998212110430755\n",
      "\n",
      "Threshold:0.1\n",
      "5\n",
      "\n",
      "Threshold:0.5\n",
      "9\n",
      "\n",
      "Threshold:0.9\n",
      "14\n",
      "\n"
     ]
    }
   ],
   "source": [
    "explainer.fit(5, method='quantile')"
   ]
  },
  {
   "cell_type": "code",
   "execution_count": 113,
   "id": "4dc40286",
   "metadata": {},
   "outputs": [
    {
     "data": {
      "text/plain": [
       "array([1., 2., 3., 1., 2., 3., 1., 3., 2., 0., 2., 4., 1., 2., 2.])"
      ]
     },
     "execution_count": 113,
     "metadata": {},
     "output_type": "execute_result"
    }
   ],
   "source": [
    "explainer.scores"
   ]
  },
  {
   "cell_type": "code",
   "execution_count": 114,
   "id": "438daf36",
   "metadata": {},
   "outputs": [
    {
     "data": {
      "text/plain": [
       "array(['RDW', 'Bilirubin, Total', 'AF', 'inotropes', 'immunosuppresant'],\n",
       "      dtype=object)"
      ]
     },
     "execution_count": 114,
     "metadata": {},
     "output_type": "execute_result"
    }
   ],
   "source": [
    "explainer.selected_features"
   ]
  },
  {
   "cell_type": "code",
   "execution_count": 115,
   "id": "1b2f995d",
   "metadata": {},
   "outputs": [],
   "source": [
    "scores, probs, predictions = explainer.predict_calculator(X_test, threshold_choice=1)"
   ]
  },
  {
   "cell_type": "code",
   "execution_count": 116,
   "id": "88acd9d2",
   "metadata": {},
   "outputs": [
    {
     "name": "stdout",
     "output_type": "stream",
     "text": [
      "ROC AUC: 0.696716446313195\n",
      "Average Precision: 0.5648444244839027\n",
      "Accuracy: 0.6532553035844916\n",
      "[[578 266]\n",
      " [208 315]]\n"
     ]
    }
   ],
   "source": [
    "from sklearn.ensemble import GradientBoostingClassifier\n",
    "from sklearn.metrics import roc_auc_score\n",
    "from sklearn.metrics import average_precision_score\n",
    "from sklearn.metrics import accuracy_score\n",
    "from sklearn.metrics import confusion_matrix\n",
    "\n",
    "roc_auc = roc_auc_score(y_test, probs)\n",
    "print(\"ROC AUC: \" + str(roc_auc))\n",
    "\n",
    "average_precision = average_precision_score(y_test, probs)\n",
    "print(\"Average Precision: \" + str(average_precision))\n",
    "\n",
    "# accuracy = accuracy_score(y_test, predictions)\n",
    "accuracy = accuracy_score(y_test, predictions)\n",
    "print(\"Accuracy: \" + str(accuracy))\n",
    "\n",
    "# print(confusion_matrix(y_test, predictions))\n",
    "print(confusion_matrix(y_test, predictions))\n"
   ]
  },
  {
   "cell_type": "code",
   "execution_count": 29,
   "id": "8ca9db6f",
   "metadata": {},
   "outputs": [
    {
     "data": {
      "text/plain": [
       "array([0.51343614, 0.16164794, 0.20710263, ..., 0.2572664 , 0.2750861 ,\n",
       "       0.44015768])"
      ]
     },
     "execution_count": 29,
     "metadata": {},
     "output_type": "execute_result"
    }
   ],
   "source": [
    "probs"
   ]
  },
  {
   "cell_type": "code",
   "execution_count": 10,
   "id": "c62be477",
   "metadata": {},
   "outputs": [],
   "source": [
    "df_original = X_test\n",
    "df_converted = pd.DataFrame()\n",
    "i = 0\n",
    "for feature in explainer.selected_features:\n",
    "    if len(df_original[feature].value_counts()) < 3:\n",
    "        df_converted[feature] = df_original[feature]\n",
    "    else:\n",
    "        range_arr = explainer.breakpoints_list[i]\n",
    "        df = explainer.find_feature_categories(feature, range_arr, df_original)\n",
    "        df_converted[df.columns] = df\n",
    "    i += 1"
   ]
  },
  {
   "cell_type": "code",
   "execution_count": 11,
   "id": "dc0130eb",
   "metadata": {},
   "outputs": [
    {
     "data": {
      "text/plain": [
       "array([128., 102., 106., ..., 109., 112., 121.])"
      ]
     },
     "execution_count": 11,
     "metadata": {},
     "output_type": "execute_result"
    }
   ],
   "source": [
    "import numpy as np\n",
    "np.dot(df_converted.values, explainer.scores)"
   ]
  },
  {
   "cell_type": "code",
   "execution_count": 12,
   "id": "1c77a7dd",
   "metadata": {},
   "outputs": [
    {
     "data": {
      "text/plain": [
       "array([0.99969772, 0.99820649, 0.99863597, ..., 0.99888921, 0.99909547,\n",
       "       0.99951168])"
      ]
     },
     "execution_count": 12,
     "metadata": {},
     "output_type": "execute_result"
    }
   ],
   "source": [
    "from scipy.special import expit\n",
    "expit(np.dot(df_converted.values, explainer.scores) * explainer.unit_beta_value + np.min(explainer.beta_values) + explainer.intercept_value)"
   ]
  },
  {
   "cell_type": "code",
   "execution_count": 13,
   "id": "6615aefd",
   "metadata": {},
   "outputs": [
    {
     "data": {
      "text/plain": [
       "128.0"
      ]
     },
     "execution_count": 13,
     "metadata": {},
     "output_type": "execute_result"
    }
   ],
   "source": [
    "np.dot(df_converted.loc[3715].values, explainer.scores)"
   ]
  },
  {
   "cell_type": "code",
   "execution_count": 14,
   "id": "06b2f03d",
   "metadata": {},
   "outputs": [
    {
     "data": {
      "text/plain": [
       "Hyperlipidemia <= 0.33333                  1\n",
       " 0.33333 <  Hyperlipidemia <=  0.66667     0\n",
       " 0.66667 <  Hyperlipidemia <=  1           0\n",
       "Hyperlipidemia > 1                         0\n",
       "RDW <= 13.9                                0\n",
       " 13.9 <  RDW <=  15.3                      0\n",
       " 15.3 <  RDW <=  17.5                      0\n",
       "RDW > 17.5                                 1\n",
       "Bilirubin, Total <= 0.4                    0\n",
       " 0.4 <  Bilirubin, Total <=  0.7           0\n",
       " 0.7 <  Bilirubin, Total <=  2.1179        0\n",
       "Bilirubin, Total > 2.1179                  1\n",
       "Urea Nitrogen <= 16                        1\n",
       " 16 <  Urea Nitrogen <=  29                0\n",
       " 29 <  Urea Nitrogen <=  54                0\n",
       "Urea Nitrogen > 54                         0\n",
       "Lactate <= 1.4                             0\n",
       " 1.4 <  Lactate <=  2.3                    1\n",
       " 2.3 <  Lactate <=  4                      0\n",
       "Lactate > 4                                0\n",
       "Phosphate <= 2.5                           1\n",
       " 2.5 <  Phosphate <=  3.4                  0\n",
       " 3.4 <  Phosphate <=  4.7                  0\n",
       "Phosphate > 4.7                            0\n",
       "AF <= 0.33333                              0\n",
       " 0.33333 <  AF <=  0.66667                 0\n",
       " 0.66667 <  AF <=  1                       1\n",
       "AF > 1                                     0\n",
       "Yeast <= 3.3333                            1\n",
       " 3.3333 <  Yeast <=  6.6667                0\n",
       " 6.6667 <  Yeast <=  10                    0\n",
       "Yeast > 10                                 0\n",
       "inotropes <= 1                             1\n",
       " 1 <  inotropes <=  2                      0\n",
       " 2 <  inotropes <=  3                      0\n",
       "inotropes > 3                              0\n",
       "immunosuppresant <= 0.66667                1\n",
       " 0.66667 <  immunosuppresant <=  1.3333    0\n",
       " 1.3333 <  immunosuppresant <=  2          0\n",
       "immunosuppresant > 2                       0\n",
       "Name: 3715, dtype: int64"
      ]
     },
     "execution_count": 14,
     "metadata": {},
     "output_type": "execute_result"
    }
   ],
   "source": [
    "df_converted.loc[3715]"
   ]
  },
  {
   "cell_type": "code",
   "execution_count": 152,
   "id": "d5ae2094",
   "metadata": {},
   "outputs": [
    {
     "data": {
      "text/plain": [
       "array([21., 13.,  8., 13.,  6.,  9., 17., 23., 11.,  9., 14., 21., 10.,\n",
       "       13., 14., 18.,  9., 14., 13., 18.,  9., 11., 15., 20., 11., 13.,\n",
       "       18., 13.,  2., 15., 25., 13.,  0., 17., 25., 13., 10., 17., 15.,\n",
       "       13.])"
      ]
     },
     "execution_count": 152,
     "metadata": {},
     "output_type": "execute_result"
    }
   ],
   "source": [
    "explainer.scores"
   ]
  },
  {
   "cell_type": "code",
   "execution_count": 24,
   "id": "c38779d4",
   "metadata": {},
   "outputs": [],
   "source": [
    "import numpy as np\n",
    "\n",
    "scores = np.rint(explainer.beta_values / explainer.unit_beta_value)"
   ]
  },
  {
   "cell_type": "code",
   "execution_count": 25,
   "id": "0ff1df2a",
   "metadata": {},
   "outputs": [
    {
     "data": {
      "text/plain": [
       "-2.0"
      ]
     },
     "execution_count": 25,
     "metadata": {},
     "output_type": "execute_result"
    }
   ],
   "source": [
    "np.dot(df_converted.loc[3715], scores)\n"
   ]
  },
  {
   "cell_type": "code",
   "execution_count": 23,
   "id": "70cce627",
   "metadata": {},
   "outputs": [
    {
     "data": {
      "text/plain": [
       "array([21., 13.,  8., 13.,  6.,  9., 17., 23., 11.,  9., 14., 21., 10.,\n",
       "       13., 14., 18.,  9., 14., 13., 18.,  9., 11., 15., 20., 11., 13.,\n",
       "       18., 13.,  2., 15., 25., 13.,  0., 17., 25., 13., 10., 17., 15.,\n",
       "       13.])"
      ]
     },
     "execution_count": 23,
     "metadata": {},
     "output_type": "execute_result"
    }
   ],
   "source": [
    "explainer.scores"
   ]
  },
  {
   "cell_type": "code",
   "execution_count": 156,
   "id": "9f68f7ce",
   "metadata": {},
   "outputs": [
    {
     "data": {
      "text/plain": [
       "-0.15477202071672158"
      ]
     },
     "execution_count": 156,
     "metadata": {},
     "output_type": "execute_result"
    }
   ],
   "source": [
    "np.dot(df_converted.loc[3715].values, explainer.beta_values)"
   ]
  },
  {
   "cell_type": "code",
   "execution_count": 39,
   "id": "1ed899cc",
   "metadata": {},
   "outputs": [
    {
     "data": {
      "text/plain": [
       "array([ 0.56660404,  0.        , -0.35807451,  0.        , -0.48791629,\n",
       "       -0.30412662,  0.30625771,  0.69431472, -0.13407928, -0.25616855,\n",
       "        0.0738003 ,  0.52497706, -0.20813139, -0.0082295 ,  0.10084515,\n",
       "        0.32404526, -0.25129682,  0.06854071,  0.0151152 ,  0.37617043,\n",
       "       -0.30193321, -0.1396597 ,  0.13668805,  0.51343438, -0.10418015,\n",
       "        0.        ,  0.31270968,  0.        , -0.72483443,  0.13387235,\n",
       "        0.79949161,  0.        , -0.87789477,  0.24766996,  0.83875434,\n",
       "        0.        , -0.20912444,  0.29845996,  0.11919401,  0.        ])"
      ]
     },
     "execution_count": 39,
     "metadata": {},
     "output_type": "execute_result"
    }
   ],
   "source": [
    "explainer.beta_values"
   ]
  },
  {
   "cell_type": "code",
   "execution_count": 49,
   "id": "663dfc8f",
   "metadata": {},
   "outputs": [
    {
     "data": {
      "text/plain": [
       "0.8910292430460754"
      ]
     },
     "execution_count": 49,
     "metadata": {},
     "output_type": "execute_result"
    }
   ],
   "source": [
    "explainer.unit_beta_value *13"
   ]
  },
  {
   "cell_type": "code",
   "execution_count": 48,
   "id": "5161a4a1",
   "metadata": {},
   "outputs": [
    {
     "data": {
      "text/plain": [
       "0.20852952844104186"
      ]
     },
     "execution_count": 48,
     "metadata": {},
     "output_type": "execute_result"
    }
   ],
   "source": [
    "explainer.intercept_value"
   ]
  },
  {
   "cell_type": "code",
   "execution_count": 43,
   "id": "a6b58594",
   "metadata": {},
   "outputs": [
    {
     "data": {
      "text/plain": [
       "40"
      ]
     },
     "execution_count": 43,
     "metadata": {},
     "output_type": "execute_result"
    }
   ],
   "source": [
    "len(explainer.beta_values)"
   ]
  }
 ],
 "metadata": {
  "kernelspec": {
   "display_name": "Python 3 (ipykernel)",
   "language": "python",
   "name": "python3"
  },
  "language_info": {
   "codemirror_mode": {
    "name": "ipython",
    "version": 3
   },
   "file_extension": ".py",
   "mimetype": "text/x-python",
   "name": "python",
   "nbconvert_exporter": "python",
   "pygments_lexer": "ipython3",
   "version": "3.9.7"
  }
 },
 "nbformat": 4,
 "nbformat_minor": 5
}
