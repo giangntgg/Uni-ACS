{
 "cells": [
  {
   "cell_type": "code",
   "execution_count": 1,
   "id": "49622713",
   "metadata": {},
   "outputs": [],
   "source": [
    "import sys\n",
    "sys.path.insert(1, '../')\n"
   ]
  },
  {
   "cell_type": "code",
   "execution_count": 2,
   "id": "58852a32",
   "metadata": {},
   "outputs": [
    {
     "data": {
      "text/plain": [
       "<module 'medical_explainer' from '/home/llja/repos/Uni_ACS/mimiciii_sepsis/../medical_explainer.py'>"
      ]
     },
     "execution_count": 2,
     "metadata": {},
     "output_type": "execute_result"
    }
   ],
   "source": [
    "import importlib\n",
    "import medical_explainer\n",
    "importlib.reload(medical_explainer)\n"
   ]
  },
  {
   "cell_type": "code",
   "execution_count": 3,
   "id": "8e2fcf8b",
   "metadata": {},
   "outputs": [],
   "source": [
    "import pandas as pd\n",
    "from sklearn.pipeline import make_pipeline\n",
    "\n",
    "from sklearn.model_selection import train_test_split\n",
    "\n",
    "seed = 7\n",
    "\n",
    "data = pd.read_csv('mimiciii_sepsis.csv').drop(['Unnamed: 0', 'SUBJECT_ID', 'HADM_ID'], axis=1)\n",
    "data['Gender'] = data['Gender'].apply(lambda x: 1 if x == 'M' else 0)\n",
    "\n",
    "X = data.drop(['28 Day Death', 'In Hospital Death'], axis=1)\n",
    "y = data['28 Day Death']\n",
    "\n",
    "X_train, X_test, y_train, y_test = train_test_split(\n",
    "    X, y, test_size=0.3, random_state=seed)"
   ]
  },
  {
   "cell_type": "code",
   "execution_count": 4,
   "id": "899d0665",
   "metadata": {},
   "outputs": [],
   "source": [
    "import numpy as np\n",
    "from sklearn.experimental import enable_iterative_imputer\n",
    "from sklearn.impute import IterativeImputer\n",
    "imp = IterativeImputer(max_iter=10, random_state=0)\n",
    "imp.fit(X_train)\n",
    "\n",
    "X_train = pd.DataFrame(imp.transform(X_train), columns=X.columns)\n",
    "X_test = pd.DataFrame(imp.transform(X_test), columns=X.columns)"
   ]
  },
  {
   "cell_type": "code",
   "execution_count": 24,
   "id": "df023e11",
   "metadata": {},
   "outputs": [],
   "source": [
    "from sklearn.pipeline import Pipeline\n",
    "from sklearn.preprocessing import StandardScaler\n",
    "from sklearn.neural_network import MLPClassifier\n",
    "\n",
    "# clf = MLPClassifier(random_state=seed, max_iter=300).fit(X_train_scaled, y_train)\n",
    "# clf = MLPClassifier(random_state=seed, max_iter=1000, activation='logistic', solver='sgd').fit(X_train_scaled, y_train)\n",
    "\n",
    "estimators = [('Scaler', StandardScaler()), ('Neural_Network', MLPClassifier(random_state=seed, max_iter=1000, activation='logistic', solver='sgd'))]\n",
    "pipe = Pipeline(estimators)\n",
    "\n",
    "clf = pipe.fit(X_train, y_train)"
   ]
  },
  {
   "cell_type": "code",
   "execution_count": 27,
   "id": "050b41ba",
   "metadata": {},
   "outputs": [
    {
     "name": "stdout",
     "output_type": "stream",
     "text": [
      "ROC AUC: 0.8095044991980281\n",
      "Average Precision: 0.7386963052733777\n",
      "Accuracy: 0.7556693489392831\n"
     ]
    }
   ],
   "source": [
    "from sklearn.metrics import roc_auc_score\n",
    "from sklearn.metrics import average_precision_score\n",
    "from sklearn.metrics import accuracy_score\n",
    "\n",
    "roc_auc = roc_auc_score(y_test, clf.predict_proba(X_test)[:, 1])\n",
    "print(\"ROC AUC: \" + str(roc_auc))\n",
    "\n",
    "average_precision = average_precision_score(y_test, clf.predict_proba(X_test)[:, 1])\n",
    "print(\"Average Precision: \" + str(average_precision))\n",
    "\n",
    "accuracy = accuracy_score(y_test, clf.predict(X_test))\n",
    "print(\"Accuracy: \" + str(accuracy))"
   ]
  },
  {
   "cell_type": "code",
   "execution_count": 28,
   "id": "e6269e07",
   "metadata": {},
   "outputs": [],
   "source": [
    "explainer = medical_explainer.explainer(\n",
    "    clf, X_train, y_train, X_test, y_test)\n",
    "# explainer.plot_calibration_original()\n",
    "# explainer.calibrate()\n",
    "# explainer.plot_calibration_calibrated()\n"
   ]
  },
  {
   "cell_type": "code",
   "execution_count": null,
   "id": "ce32385c",
   "metadata": {},
   "outputs": [],
   "source": [
    "explainer = medical_explainer.explainer(\n",
    "    clf, X_train, y_train, X_test, y_test)\n",
    "\n",
    "explainer.fit(10, shap_method='kernel', method='novel')"
   ]
  },
  {
   "cell_type": "code",
   "execution_count": 12,
   "id": "873caa02",
   "metadata": {},
   "outputs": [
    {
     "data": {
      "text/plain": [
       "array(['LOS', 'RDW', 'ICU_LOS', 'Age', 'inotropes',\n",
       "       'Lactate Dehydrogenase (LD)', 'Haptoglobin', 'Phosphate', 'ICUs',\n",
       "       'Albumin'], dtype=object)"
      ]
     },
     "execution_count": 12,
     "metadata": {},
     "output_type": "execute_result"
    }
   ],
   "source": [
    "explainer.variables"
   ]
  },
  {
   "cell_type": "code",
   "execution_count": 13,
   "id": "5cb51903",
   "metadata": {},
   "outputs": [
    {
     "data": {
      "text/plain": [
       "[array([ 8., -5.]),\n",
       " array([-3.,  4.]),\n",
       " array([ 1., -2.,  4.]),\n",
       " array([-2.,  3.]),\n",
       " array([-3.,  2.]),\n",
       " array([-2.,  1.]),\n",
       " array([ 2., -1.]),\n",
       " array([-1.,  1.]),\n",
       " array([ 0., -1.,  4.]),\n",
       " array([ 1., -1.])]"
      ]
     },
     "execution_count": 13,
     "metadata": {},
     "output_type": "execute_result"
    }
   ],
   "source": [
    "explainer.score_array_list"
   ]
  },
  {
   "cell_type": "code",
   "execution_count": 14,
   "id": "a9720475",
   "metadata": {},
   "outputs": [
    {
     "data": {
      "text/plain": [
       "[[-0.3222222222222222, 8.420296637338277, 294.66041666666666],\n",
       " [11.6, 15.442368481276056, 30.5],\n",
       " [0.008, 0.043143496038710594, 5.281013550406813, 153.928],\n",
       " [18.258726899383984, 73.08052113237441, 90.0],\n",
       " [0.0, 0.9401474154387959, 3.0],\n",
       " [-8.271937990619335, 207.60238455174488, 23111.0],\n",
       " [-151.44629140606094, 158.81343669848746, 688.0],\n",
       " [0.2, 3.4487048423198887, 17.3],\n",
       " [0.0, 0.26254122009811004, 1.121022950650504, 5.0],\n",
       " [0.0, 2.7469765455333497, 18.290282613036652]]"
      ]
     },
     "execution_count": 14,
     "metadata": {},
     "output_type": "execute_result"
    }
   ],
   "source": [
    "explainer.breakpoints_list"
   ]
  },
  {
   "cell_type": "code",
   "execution_count": 15,
   "id": "0a37e02f",
   "metadata": {},
   "outputs": [],
   "source": [
    "scores,probs,predictions = explainer.predict_calculator(X_test, 1)"
   ]
  },
  {
   "cell_type": "code",
   "execution_count": 16,
   "id": "fd5783fd",
   "metadata": {},
   "outputs": [
    {
     "name": "stdout",
     "output_type": "stream",
     "text": [
      "ROC AUC: 0.7432410084003154\n",
      "Average Precision: 0.6392679031444433\n",
      "Accuracy: 0.695683979517191\n",
      "[[772  72]\n",
      " [344 179]]\n"
     ]
    }
   ],
   "source": [
    "from sklearn.metrics import roc_auc_score\n",
    "from sklearn.metrics import average_precision_score\n",
    "from sklearn.metrics import accuracy_score\n",
    "from sklearn.metrics import confusion_matrix\n",
    "\n",
    "roc_auc = roc_auc_score(y_test, probs)\n",
    "print(\"ROC AUC: \" + str(roc_auc))\n",
    "\n",
    "average_precision = average_precision_score(y_test, probs)\n",
    "print(\"Average Precision: \" + str(average_precision))\n",
    "\n",
    "# accuracy = accuracy_score(y_test, predictions)\n",
    "accuracy = accuracy_score(y_test, predictions)\n",
    "print(\"Accuracy: \" + str(accuracy))\n",
    "\n",
    "# print(confusion_matrix(y_test, predictions))\n",
    "print(confusion_matrix(y_test, predictions))"
   ]
  },
  {
   "cell_type": "code",
   "execution_count": 25,
   "id": "7eb077c4",
   "metadata": {},
   "outputs": [],
   "source": [
    "import numpy as np\n",
    "import scipy.stats\n",
    "\n",
    "\n",
    "def mean_confidence_interval(data, confidence=0.95):\n",
    "    a = 1.0 * np.array(data)\n",
    "    n = len(a)\n",
    "    m, se = np.mean(a), scipy.stats.sem(a)\n",
    "    h = se * scipy.stats.t.ppf((1 + confidence) / 2., n-1)\n",
    "    return m, m-h, m+h\n"
   ]
  },
  {
   "cell_type": "code",
   "execution_count": 30,
   "id": "c81d6d42",
   "metadata": {},
   "outputs": [
    {
     "name": "stdout",
     "output_type": "stream",
     "text": [
      "(0.7469063456868335, 0.7376555577417688, 0.7561571336318981)\n",
      "(0.6471622941122264, 0.6342367766283696, 0.6600878115960831)\n",
      "(0.6975999999999999, 0.6902457637156658, 0.704954236284334)\n"
     ]
    }
   ],
   "source": [
    "from sklearn.utils import resample\n",
    "\n",
    "auroc_array = []\n",
    "auprc_array = []\n",
    "accuracy_array = []\n",
    "\n",
    "for i in range(50):\n",
    "    X_test_bs = resample(X_test, n_samples=200, replace=False, stratify=y_test,\n",
    "             random_state=i)\n",
    "    y_test_bs = y_test[X_test_bs.index]\n",
    "\n",
    "    scores,probs,predictions = explainer.predict_calculator(X_test_bs, 1)\n",
    "    auroc = roc_auc_score(y_test_bs, probs)\n",
    "    auprc = average_precision_score(y_test_bs, probs)\n",
    "    accuracy = accuracy_score(y_test_bs, predictions)\n",
    "    \n",
    "    auroc_array.append(auroc)\n",
    "    auprc_array.append(auprc)\n",
    "    accuracy_array.append(accuracy)\n",
    "    \n",
    "\n",
    "print(mean_confidence_interval(auroc_array))\n",
    "print(mean_confidence_interval(auprc_array))\n",
    "print(mean_confidence_interval(accuracy_array))"
   ]
  }
 ],
 "metadata": {
  "kernelspec": {
   "display_name": "Python 3 (ipykernel)",
   "language": "python",
   "name": "python3"
  },
  "language_info": {
   "codemirror_mode": {
    "name": "ipython",
    "version": 3
   },
   "file_extension": ".py",
   "mimetype": "text/x-python",
   "name": "python",
   "nbconvert_exporter": "python",
   "pygments_lexer": "ipython3",
   "version": "3.9.7"
  }
 },
 "nbformat": 4,
 "nbformat_minor": 5
}
