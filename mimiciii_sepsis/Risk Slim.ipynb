{
 "cells": [
  {
   "cell_type": "code",
   "execution_count": 4,
   "id": "90f79475",
   "metadata": {},
   "outputs": [],
   "source": [
    "import os\n",
    "import pprint\n",
    "import numpy as np\n",
    "import riskslim\n",
    "\n",
    "data_csv_file = 'data_train.csv'\n",
    "sample_weights_csv_file = None                              # csv file of sample weights for the dataset (optional)\n",
    "\n",
    "# problem parameters\n",
    "max_coefficient = 5                                         # value of largest/smallest coefficient\n",
    "max_L0_value = 5                                            # maximum model size (set as float(inf))\n",
    "max_offset = 50                                             # maximum value of offset parameter (optional)\n",
    "c0_value = 1e-6                                             # L0-penalty parameter such that c0_value > 0; larger values -> sparser models; we set to a small value (1e-6) so that we get a model with      max_L0_value terms\n"
   ]
  },
  {
   "cell_type": "code",
   "execution_count": 5,
   "id": "747b73a5",
   "metadata": {},
   "outputs": [
    {
     "name": "stdout",
     "output_type": "stream",
     "text": [
      "setting c0_value = 0.0 for (Intercept) to ensure that intercept is not penalized\n",
      "05/24/22 @ 04:53 PM | switching loss computation from fast to weighted\n",
      "05/24/22 @ 04:53 PM | ------------------------------------------------------------\n",
      "05/24/22 @ 04:53 PM | runnning initialization procedure\n",
      "05/24/22 @ 04:53 PM | ------------------------------------------------------------\n",
      "05/24/22 @ 04:53 PM | CPA produced 2 cuts\n",
      "05/24/22 @ 04:53 PM | running naive rounding on 3 solutions\n",
      "05/24/22 @ 04:53 PM | best objective value: 0.6931\n",
      "05/24/22 @ 04:53 PM | rounding produced 3 integer solutions\n",
      "05/24/22 @ 04:53 PM | best objective value is 0.6931\n",
      "05/24/22 @ 04:53 PM | running sequential rounding on 3 solutions\n",
      "05/24/22 @ 04:53 PM | best objective value: 0.6931\n",
      "05/24/22 @ 04:53 PM | sequential rounding produced 1 integer solutions\n",
      "05/24/22 @ 04:53 PM | best objective value: 0.6931\n",
      "05/24/22 @ 04:53 PM | polishing 4 solutions\n",
      "05/24/22 @ 04:53 PM | best objective value: 0.6931\n",
      "05/24/22 @ 04:53 PM | polishing produced 2 integer solutions\n",
      "05/24/22 @ 04:53 PM | initialization produced 4 feasible solutions\n",
      "05/24/22 @ 04:53 PM | best objective value: 0.6211\n",
      "05/24/22 @ 04:53 PM | ------------------------------------------------------------\n",
      "05/24/22 @ 04:53 PM | completed initialization procedure\n",
      "05/24/22 @ 04:53 PM | ------------------------------------------------------------\n",
      "05/24/22 @ 04:53 PM | switching loss computation from fast to weighted\n",
      "Version identifier: 22.1.0.0 | 2022-03-27 | 54982fbec\n",
      "CPXPARAM_Read_DataCheck                          1\n",
      "CPXPARAM_Threads                                 1\n",
      "CPXPARAM_Parallel                                1\n",
      "CPXPARAM_RandomSeed                              0\n",
      "CPXPARAM_TimeLimit                               30\n",
      "CPXPARAM_MIP_Tolerances_LowerCutoff              0.56397253082777599\n",
      "CPXPARAM_MIP_Tolerances_UpperCutoff              0.62108301244143471\n",
      "Legacy callback                                  LHD\n"
     ]
    },
    {
     "name": "stderr",
     "output_type": "stream",
     "text": [
      "Warning: Control callbacks may disable some MIP features.\n"
     ]
    },
    {
     "name": "stdout",
     "output_type": "stream",
     "text": [
      "Lazy constraint(s) or lazy constraint/branch callback is present.\n",
      "    Disabling dual reductions (CPX_PARAM_REDUCE) in presolve.\n",
      "    Disabling presolve reductions that prevent crushing forms (CPX_PARAM_PREREFORM).\n",
      "         Disabling repeat represolve because of lazy constraint/incumbent callback.\n",
      "Tried aggregator 1 time.\n",
      "Reduced MIP has 22 rows, 24 columns, and 63 nonzeros.\n",
      "Reduced MIP has 10 binaries, 12 generals, 0 SOSs, and 0 indicators.\n",
      "Presolve time = 0.02 sec. (0.03 ticks)\n",
      "Probing time = 0.00 sec. (0.01 ticks)\n",
      "MIP emphasis: balance optimality and feasibility.\n",
      "MIP search method: traditional branch-and-cut.\n",
      "Parallel mode: none, using 1 thread.\n",
      "Root relaxation solution time = 0.00 sec. (0.03 ticks)\n",
      "05/24/22 @ 04:53 PM | adding 137 initial cuts\n",
      "\n",
      "        Nodes                                         Cuts/\n",
      "   Node  Left     Objective  IInf  Best Integer    Best Bound    ItCnt     Gap         Variable B NodeID Parent  Depth\n",
      "\n",
      "      0     0        0.5640    20                      0.5640       11         \n",
      "*     0+    0                            0.6211        0.5640             9.20%\n",
      "      0     2        0.5640    20        0.6211        0.5640       11    9.20%                        0             0\n",
      "Elapsed time = 0.15 sec. (14.56 ticks, tree = 0.01 MB, solutions = 0)\n",
      "*    10+   10                            0.5925        0.5640             4.80%\n",
      "*    10+   10                            0.5812        0.5640             2.95%\n",
      "*    30+   20                            0.5738        0.5643             1.66%\n",
      "*   934   389      integral     0        0.5734        0.5665     3839    1.20%           rho_2 U    934    932     23\n",
      "   1844   382        0.5730     7        0.5734        0.5692     7581    0.73%           rho_1 U   1844   1843     11\n",
      "   2701   174        cutoff              0.5734        0.5722    10833    0.21%           rho_1 N   2701   1973     10\n",
      "\n",
      "User cuts applied:  481\n",
      "\n",
      "Root node processing (before b&c):\n",
      "  Real time             =    0.15 sec. (14.56 ticks)\n",
      "Sequential b&c:\n",
      "  Real time             =    1.20 sec. (752.33 ticks)\n",
      "                          ------------\n",
      "Total (root+branch&cut) =    1.35 sec. (766.89 ticks)\n",
      "+----------------------------------------------+------------------+-----------+\n",
      "| Pr(Y = +1) = 1.0/(1.0 + exp(-(-3 + score))   |                  |           |\n",
      "| ============================================ | ================ | ========= |\n",
      "| Lactate Dehydrogenase (LD)                   |         5 points |   + ..... |\n",
      "| RDW                                          |         4 points |   + ..... |\n",
      "| Urea Nitrogen                                |         3 points |   + ..... |\n",
      "| Lactate                                      |         3 points |   + ..... |\n",
      "| inotropes                                    |         3 points |   + ..... |\n",
      "| ============================================ | ================ | ========= |\n",
      "| ADD POINTS FROM ROWS 1 to 5                  |            SCORE |   = ..... |\n",
      "+----------------------------------------------+------------------+-----------+\n",
      "{'L0_max': 5,\n",
      " 'L0_min': 0,\n",
      " 'c0_value': 1e-06,\n",
      " 'callback_time': 0.21545004844665527,\n",
      " 'coef_set': +----------------------------+-------+------+-------+------+-----+\n",
      "|       variable_name        | vtype | sign |   lb  |  ub  |  c0 |\n",
      "+----------------------------+-------+------+-------+------+-----+\n",
      "|        (Intercept)         |   I   |  0   | -50.0 | 50.0 | 0.0 |\n",
      "|            RDW             |   I   |  0   |  -5.0 | 5.0  | nan |\n",
      "| Lactate Dehydrogenase (LD) |   I   |  0   |  -5.0 | 5.0  | nan |\n",
      "|       Urea Nitrogen        |   I   |  0   |  -5.0 | 5.0  | nan |\n",
      "|          Lactate           |   I   |  0   |  -5.0 | 5.0  | nan |\n",
      "|         Phosphate          |   I   |  0   |  -5.0 | 5.0  | nan |\n",
      "|            PTT             |   I   |  0   |  -5.0 | 5.0  | nan |\n",
      "|           Yeast            |   I   |  0   |  -5.0 | 5.0  | nan |\n",
      "|        antifungals         |   I   |  0   |  -5.0 | 5.0  | nan |\n",
      "|         inotropes          |   I   |  0   |  -5.0 | 5.0  | nan |\n",
      "|      immunosuppresant      |   I   |  0   |  -5.0 | 5.0  | nan |\n",
      "+----------------------------+-------+------+-------+------+-----+,\n",
      " 'data_time': 0.11603856086730957,\n",
      " 'loss_value': 0.5734216185310368,\n",
      " 'nodes_processed': 2786,\n",
      " 'objective_value': 0.5734266185310368,\n",
      " 'optimality_gap': 8.890798662630455e-05,\n",
      " 'run_time': 1.405848741531372,\n",
      " 'solution': array([-3.,  4.,  5.,  3.,  3.,  0.,  0.,  0.,  0.,  3.,  0.]),\n",
      " 'solver_time': 1.1903986930847168,\n",
      " 'w_pos': 1.0}\n"
     ]
    }
   ],
   "source": [
    "# load data from disk\n",
    "data = riskslim.load_data_from_csv(dataset_csv_file = data_csv_file, sample_weights_csv_file = sample_weights_csv_file)\n",
    "\n",
    "# create coefficient set and set the value of the offset parameter\n",
    "coef_set = riskslim.CoefficientSet(variable_names = data['variable_names'], lb = -max_coefficient, ub = max_coefficient, sign = 0)\n",
    "coef_set.update_intercept_bounds(X = data['X'], y = data['Y'], max_offset = max_offset)\n",
    "\n",
    "constraints = {\n",
    "    'L0_min': 0,\n",
    "    'L0_max': max_L0_value,\n",
    "    'coef_set':coef_set,\n",
    "}\n",
    " \n",
    "# major settings (see riskslim_ex_02_complete for full set of options)\n",
    "settings = {\n",
    "    # Problem Parameters\n",
    "    'c0_value': c0_value,\n",
    "    #\n",
    "    # LCPA Settings\n",
    "    'max_runtime': 30.0,                               # max runtime for LCPA\n",
    "    'max_tolerance': np.finfo('float').eps,             # tolerance to stop LCPA (set to 0 to return provably optimal solution)\n",
    "    'display_cplex_progress': True,                     # print CPLEX progress on screen\n",
    "    'loss_computation': 'fast',                         # how to compute the loss function ('normal','fast','lookup')\n",
    "    #\n",
    "    # LCPA Improvements\n",
    "    'round_flag': True,                                # round continuous solutions with SeqRd\n",
    "    'polish_flag': True,                               # polish integer feasible solutions with DCD\n",
    "    'chained_updates_flag': True,                      # use chained updates\n",
    "    'add_cuts_at_heuristic_solutions': True,            # add cuts at integer feasible solutions found using polishing/rounding\n",
    "    #\n",
    "    # Initialization\n",
    "    'initialization_flag': True,                       # use initialization procedure\n",
    "    'init_max_runtime': 120.0,                         # max time to run CPA in initialization procedure\n",
    "    'init_max_coefficient_gap': 0.49,\n",
    "    #\n",
    "    # CPLEX Solver Parameters\n",
    "    'cplex_randomseed': 0,                              # random seed\n",
    "    'cplex_mipemphasis': 0,                             # cplex MIP strategy\n",
    "}\n",
    "\n",
    "# train model using lattice_cpa\n",
    "model_info, mip_info, lcpa_info = riskslim.run_lattice_cpa(data, constraints, settings)\n",
    "\n",
    "#print model contains model\n",
    "riskslim.print_model(model_info['solution'], data)\n",
    "\n",
    "#model info contains key results\n",
    "pprint.pprint(model_info)"
   ]
  },
  {
   "cell_type": "code",
   "execution_count": 41,
   "id": "6e9ca122",
   "metadata": {},
   "outputs": [],
   "source": [
    "import numpy as np\n",
    "\n",
    "def predict_df(X, rho):\n",
    "    rho_values = np.copy(rho)\n",
    "    \n",
    "    if len(rho) > len(X.columns):\n",
    "        intercept = rho[0]\n",
    "        rho_values = np.delete(rho_values, 0)\n",
    "    else:\n",
    "        intercept = 0\n",
    "        \n",
    "    scores = np.dot(X.values, rho_values)\n",
    "    probs = 1/(1+np.exp(-(intercept + scores)))\n",
    "    predictions = (probs >= 0.5).astype(int)\n",
    "    \n",
    "    return scores, probs, predictions\n"
   ]
  },
  {
   "cell_type": "code",
   "execution_count": 15,
   "id": "7a261e8b",
   "metadata": {},
   "outputs": [],
   "source": [
    "import pandas as pd\n",
    "\n",
    "data_test = pd.read_csv('data_test.csv')\n",
    "\n",
    "X_test = data_test.drop(['28 Day Death'], axis=1)\n",
    "y_test = data_test['28 Day Death']"
   ]
  },
  {
   "cell_type": "code",
   "execution_count": 42,
   "id": "960c87df",
   "metadata": {},
   "outputs": [],
   "source": [
    "scores, probs, predictions = predict_df(X_test, model_info['solution'])"
   ]
  },
  {
   "cell_type": "code",
   "execution_count": 43,
   "id": "c283f265",
   "metadata": {},
   "outputs": [
    {
     "name": "stdout",
     "output_type": "stream",
     "text": [
      "ROC AUC: 0.7250391924098122\n",
      "Average Precision: 0.628622298613465\n",
      "Accuracy: 0.6986100950987564\n",
      "[[691 153]\n",
      " [259 264]]\n"
     ]
    }
   ],
   "source": [
    "from sklearn.metrics import roc_auc_score\n",
    "from sklearn.metrics import average_precision_score\n",
    "from sklearn.metrics import accuracy_score\n",
    "from sklearn.metrics import confusion_matrix\n",
    "\n",
    "roc_auc = roc_auc_score(y_test, probs)\n",
    "print(\"ROC AUC: \" + str(roc_auc))\n",
    "\n",
    "average_precision = average_precision_score(y_test, probs)\n",
    "print(\"Average Precision: \" + str(average_precision))\n",
    "\n",
    "# accuracy = accuracy_score(y_test, predictions)\n",
    "accuracy = accuracy_score(y_test, predictions)\n",
    "print(\"Accuracy: \" + str(accuracy))\n",
    "\n",
    "# print(confusion_matrix(y_test, predictions))\n",
    "print(confusion_matrix(y_test, predictions))\n"
   ]
  },
  {
   "cell_type": "code",
   "execution_count": 44,
   "id": "b7040c51",
   "metadata": {},
   "outputs": [],
   "source": [
    "import numpy as np\n",
    "import scipy.stats\n",
    "\n",
    "\n",
    "def mean_confidence_interval(data, confidence=0.95):\n",
    "    a = 1.0 * np.array(data)\n",
    "    n = len(a)\n",
    "    m, se = np.mean(a), scipy.stats.sem(a)\n",
    "    h = se * scipy.stats.t.ppf((1 + confidence) / 2., n-1)\n",
    "    return m, m-h, m+h\n"
   ]
  },
  {
   "cell_type": "code",
   "execution_count": 48,
   "id": "35026ccb",
   "metadata": {},
   "outputs": [
    {
     "name": "stdout",
     "output_type": "stream",
     "text": [
      "(0.7315679442508711, 0.7223633424916032, 0.7407725460101391)\n",
      "(0.6451706970388323, 0.6324096340552979, 0.6579317600223668)\n",
      "(0.7028, 0.6936486054950667, 0.7119513945049333)\n"
     ]
    }
   ],
   "source": [
    "from sklearn.utils import resample\n",
    "\n",
    "auroc_array = []\n",
    "auprc_array = []\n",
    "accuracy_array = []\n",
    "\n",
    "for i in range(50):\n",
    "    X_test_bs = resample(X_test, n_samples=200, replace=False, stratify=y_test,\n",
    "             random_state=i)\n",
    "    y_test_bs = y_test[X_test_bs.index]\n",
    "\n",
    "    scores,probs,predictions = predict_df(X_test_bs, model_info['solution'])\n",
    "    auroc = roc_auc_score(y_test_bs, probs)\n",
    "    auprc = average_precision_score(y_test_bs, probs)\n",
    "    accuracy = accuracy_score(y_test_bs, predictions)\n",
    "    \n",
    "    auroc_array.append(auroc)\n",
    "    auprc_array.append(auprc)\n",
    "    accuracy_array.append(accuracy)\n",
    "    \n",
    "\n",
    "print(mean_confidence_interval(auroc_array))\n",
    "print(mean_confidence_interval(auprc_array))\n",
    "print(mean_confidence_interval(accuracy_array))"
   ]
  },
  {
   "cell_type": "code",
   "execution_count": 2,
   "id": "3d10abb4",
   "metadata": {},
   "outputs": [
    {
     "name": "stdout",
     "output_type": "stream",
     "text": [
      "0.04742587317756678\n",
      "0.11920292202211755\n",
      "0.2689414213699951\n",
      "0.5\n",
      "0.7310585786300049\n",
      "0.8807970779778823\n",
      "0.9525741268224334\n",
      "0.9820137900379085\n",
      "0.9933071490757153\n",
      "0.9975273768433653\n",
      "0.9990889488055994\n",
      "0.9996646498695336\n",
      "0.9998766054240137\n",
      "0.9999546021312976\n",
      "0.999983298578152\n",
      "0.9999938558253978\n",
      "0.999997739675702\n",
      "0.9999991684719722\n",
      "0.999999694097773\n"
     ]
    }
   ],
   "source": [
    "import math\n",
    "for i in range(5+4+3+3+3+1):\n",
    "    p = 1/(1 + math.exp(-(-3+i)))\n",
    "    print(p)"
   ]
  },
  {
   "cell_type": "code",
   "execution_count": 3,
   "id": "ac8472f6",
   "metadata": {},
   "outputs": [
    {
     "data": {
      "text/plain": [
       "0.04742587317756678"
      ]
     },
     "execution_count": 3,
     "metadata": {},
     "output_type": "execute_result"
    }
   ],
   "source": [
    "1/(1 + math.exp(-(-3+0)))"
   ]
  },
  {
   "cell_type": "code",
   "execution_count": null,
   "id": "9f931690",
   "metadata": {},
   "outputs": [],
   "source": []
  }
 ],
 "metadata": {
  "kernelspec": {
   "display_name": "Python 3 (ipykernel)",
   "language": "python",
   "name": "python3"
  },
  "language_info": {
   "codemirror_mode": {
    "name": "ipython",
    "version": 3
   },
   "file_extension": ".py",
   "mimetype": "text/x-python",
   "name": "python",
   "nbconvert_exporter": "python",
   "pygments_lexer": "ipython3",
   "version": "3.9.7"
  }
 },
 "nbformat": 4,
 "nbformat_minor": 5
}
