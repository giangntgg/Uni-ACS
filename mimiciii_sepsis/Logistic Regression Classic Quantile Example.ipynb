{
 "cells": [
  {
   "cell_type": "code",
   "execution_count": 4,
   "id": "ab775398",
   "metadata": {},
   "outputs": [],
   "source": [
    "import pandas as pd\n",
    "from sklearn.pipeline import make_pipeline\n",
    "\n",
    "from sklearn.model_selection import train_test_split\n",
    "\n",
    "seed = 7\n",
    "\n",
    "data = pd.read_csv('data/sepsis_final.csv').drop(['Unnamed: 0', 'SUBJECT_ID', 'HADM_ID'], axis=1)\n",
    "data['Gender'] = data['Gender'].apply(lambda x: 1 if x == 'M' else 0)\n",
    "\n",
    "X = data.drop(['28 Day Death', 'In Hospital Death'], axis=1)\n",
    "y = data['28 Day Death']\n",
    "\n",
    "X_train, X_test, y_train, y_test = train_test_split(\n",
    "    X, y, test_size=0.3, random_state=seed)"
   ]
  },
  {
   "cell_type": "code",
   "execution_count": 6,
   "id": "be616064",
   "metadata": {},
   "outputs": [],
   "source": [
    "import numpy as np\n",
    "from sklearn.experimental import enable_iterative_imputer\n",
    "from sklearn.impute import IterativeImputer\n",
    "imp = IterativeImputer(max_iter=10, random_state=0)\n",
    "imp.fit(X_train)\n",
    "\n",
    "X_train = pd.DataFrame(imp.transform(X_train), columns=X.columns)\n",
    "X_test = pd.DataFrame(imp.transform(X_test), columns=X.columns)"
   ]
  },
  {
   "cell_type": "code",
   "execution_count": 9,
   "id": "6a4f3962",
   "metadata": {},
   "outputs": [],
   "source": [
    "import importlib\n",
    "import medical_explainer_classic\n",
    "importlib.reload(medical_explainer_classic)\n",
    "\n",
    "explainer = medical_explainer_classic.explainer(\n",
    "    X_train, y_train, X_test, y_test\n",
    ")"
   ]
  },
  {
   "cell_type": "code",
   "execution_count": 10,
   "id": "cca93728",
   "metadata": {
    "scrolled": false
   },
   "outputs": [
    {
     "name": "stdout",
     "output_type": "stream",
     "text": [
      "| Step 1  ==> Selecting top n features\n",
      "| Step 2 ==> Transforming features based on quantiles\n",
      "| Step 3 ==> Fitting logistic regression model on transformed categories\n",
      "| Step 4 ==> Calibrating logistic regression model\n"
     ]
    },
    {
     "data": {
      "image/png": "[encoded data removed]",
      "text/plain": [
       "<Figure size 432x288 with 1 Axes>"
      ]
     },
     "metadata": {
      "needs_background": "light"
     },
     "output_type": "display_data"
    },
    {
     "data": {
      "image/png": "[encoded data removed]",
      "text/plain": [
       "<Figure size 432x288 with 1 Axes>"
      ]
     },
     "metadata": {
      "needs_background": "light"
     },
     "output_type": "display_data"
    },
    {
     "data": {
      "image/png": "[encoded data removed]",
      "text/plain": [
       "<Figure size 432x288 with 1 Axes>"
      ]
     },
     "metadata": {
      "needs_background": "light"
     },
     "output_type": "display_data"
    },
    {
     "data": {
      "image/png": "[encoded data removed]",
      "text/plain": [
       "<Figure size 432x288 with 1 Axes>"
      ]
     },
     "metadata": {
      "needs_background": "light"
     },
     "output_type": "display_data"
    },
    {
     "name": "stdout",
     "output_type": "stream",
     "text": [
      "| Step 5 ==> Fit clinical score calculator\n",
      "Fit clincal score calculator\n",
      "Threshold:0.1\n",
      "21\n",
      "\n",
      "Threshold:0.5\n",
      "28\n",
      "\n",
      "Threshold:0.9\n",
      "36\n",
      "\n"
     ]
    }
   ],
   "source": [
    "explainer.fit(10, method='quantile')"
   ]
  },
  {
   "cell_type": "code",
   "execution_count": null,
   "id": "d92a3d04",
   "metadata": {},
   "outputs": [],
   "source": []
  },
  {
   "cell_type": "code",
   "execution_count": 11,
   "id": "4dc40286",
   "metadata": {},
   "outputs": [
    {
     "data": {
      "text/plain": [
       "array([1., 1., 3., 5., 6., 2., 2., 3., 4., 6., 2., 2., 3., 4., 5., 2., 2.,\n",
       "       3., 4., 5., 2., 3., 3., 5., 3., 2., 2., 3., 5., 3., 2., 3., 3., 5.,\n",
       "       3., 2., 4., 6., 1., 3., 0., 2., 5., 6., 3., 3., 4., 3., 3., 3.])"
      ]
     },
     "execution_count": 11,
     "metadata": {},
     "output_type": "execute_result"
    }
   ],
   "source": [
    "explainer.scores"
   ]
  },
  {
   "cell_type": "code",
   "execution_count": 12,
   "id": "438daf36",
   "metadata": {},
   "outputs": [
    {
     "data": {
      "text/plain": [
       "array(['RDW', 'Lactate Dehydrogenase (LD)', 'Urea Nitrogen', 'Lactate',\n",
       "       'Phosphate', 'PTT', 'Yeast', 'antifungals', 'inotropes',\n",
       "       'immunosuppresant'], dtype=object)"
      ]
     },
     "execution_count": 12,
     "metadata": {},
     "output_type": "execute_result"
    }
   ],
   "source": [
    "explainer.selected_features"
   ]
  },
  {
   "cell_type": "code",
   "execution_count": 13,
   "id": "08d2a79a",
   "metadata": {},
   "outputs": [
    {
     "data": {
      "text/plain": [
       "[array([11.6, 12.9, 13.9, 17.5, 20.5, 30.5]),\n",
       " array([-8.27193799e+00,  1.44000000e+02,  1.99000000e+02,  4.51374108e+02,\n",
       "         9.52300000e+02,  2.31110000e+04]),\n",
       " array([  2.,  10.,  16.,  54.,  93., 272.]),\n",
       " array([ 0.3,  0.9,  1.4,  4. ,  7.1, 21.7]),\n",
       " array([ 0.2,  1.7,  2.5,  4.7,  6.9, 17.3]),\n",
       " array([ 17.7  ,  22.7  ,  26.3  ,  40.2  ,  65.065, 151.   ]),\n",
       " array([ 0. ,  2.5,  5. ,  7.5, 10. , 10. ]),\n",
       " array([0., 1., 2., 3., 4., 4.]),\n",
       " array([0.  , 0.75, 1.5 , 2.25, 3.  , 3.  ]),\n",
       " array([0. , 0.5, 1. , 1.5, 2. , 2. ])]"
      ]
     },
     "execution_count": 13,
     "metadata": {},
     "output_type": "execute_result"
    }
   ],
   "source": [
    "explainer.breakpoints_list"
   ]
  },
  {
   "cell_type": "code",
   "execution_count": 14,
   "id": "22f74bb7",
   "metadata": {},
   "outputs": [
    {
     "data": {
      "text/plain": [
       "array([-0.67674388, -0.49956116, -0.00634155,  0.59819803,  0.88753929,\n",
       "       -0.26561762, -0.40739559, -0.13420274,  0.33916965,  0.77113704,\n",
       "       -0.32275303, -0.26452349, -0.00997413,  0.22990271,  0.67043867,\n",
       "       -0.30739577, -0.26250468,  0.00899775,  0.24832877,  0.61566467,\n",
       "       -0.39051196, -0.13249587,  0.11301757,  0.57512645,  0.13795455,\n",
       "       -0.17975592, -0.15714848,  0.05357466,  0.46101405,  0.12540643,\n",
       "       -0.35590352,  0.13967752,  0.02431915,  0.49499759,  0.        ,\n",
       "       -0.28059096,  0.30078366,  0.91104851, -0.62815048,  0.        ,\n",
       "       -0.95978477, -0.29856275,  0.55034694,  1.01109131,  0.        ,\n",
       "       -0.0941672 ,  0.29785383,  0.        ,  0.0994041 ,  0.        ])"
      ]
     },
     "execution_count": 14,
     "metadata": {},
     "output_type": "execute_result"
    }
   ],
   "source": [
    "explainer.beta_values"
   ]
  },
  {
   "cell_type": "code",
   "execution_count": 15,
   "id": "1b2f995d",
   "metadata": {},
   "outputs": [],
   "source": [
    "scores, probs, predictions = explainer.predict_calculator(X_test, threshold_choice=1)"
   ]
  },
  {
   "cell_type": "code",
   "execution_count": 16,
   "id": "88acd9d2",
   "metadata": {},
   "outputs": [
    {
     "name": "stdout",
     "output_type": "stream",
     "text": [
      "ROC AUC: 0.7395143312823393\n",
      "Average Precision: 0.6229889358971914\n",
      "Accuracy: 0.6861741038771031\n",
      "[[588 256]\n",
      " [173 350]]\n"
     ]
    }
   ],
   "source": [
    "from sklearn.metrics import roc_auc_score\n",
    "from sklearn.metrics import average_precision_score\n",
    "from sklearn.metrics import accuracy_score\n",
    "from sklearn.metrics import confusion_matrix\n",
    "\n",
    "roc_auc = roc_auc_score(y_test, probs)\n",
    "print(\"ROC AUC: \" + str(roc_auc))\n",
    "\n",
    "average_precision = average_precision_score(y_test, probs)\n",
    "print(\"Average Precision: \" + str(average_precision))\n",
    "\n",
    "# accuracy = accuracy_score(y_test, predictions)\n",
    "accuracy = accuracy_score(y_test, predictions)\n",
    "print(\"Accuracy: \" + str(accuracy))\n",
    "\n",
    "# print(confusion_matrix(y_test, predictions))\n",
    "print(confusion_matrix(y_test, predictions))\n"
   ]
  }
 ],
 "metadata": {
  "kernelspec": {
   "display_name": "Python 3 (ipykernel)",
   "language": "python",
   "name": "python3"
  },
  "language_info": {
   "codemirror_mode": {
    "name": "ipython",
    "version": 3
   },
   "file_extension": ".py",
   "mimetype": "text/x-python",
   "name": "python",
   "nbconvert_exporter": "python",
   "pygments_lexer": "ipython3",
   "version": "3.9.7"
  }
 },
 "nbformat": 4,
 "nbformat_minor": 5
}
