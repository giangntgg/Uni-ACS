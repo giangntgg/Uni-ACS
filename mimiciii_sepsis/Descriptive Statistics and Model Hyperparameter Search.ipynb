{
 "cells": [
  {
   "cell_type": "code",
   "execution_count": 1,
   "id": "d69e3265",
   "metadata": {},
   "outputs": [],
   "source": [
    "import pandas as pd\n",
    "from sklearn.pipeline import make_pipeline\n",
    "\n",
    "from sklearn.model_selection import train_test_split\n",
    "\n",
    "seed = 7\n",
    "\n",
    "data = pd.read_csv('mimiciii_sepsis.csv').drop(['Unnamed: 0', 'SUBJECT_ID', 'HADM_ID'], axis=1)\n",
    "data['Gender'] = data['Gender'].apply(lambda x: 1 if x == 'M' else 0)\n",
    "\n",
    "X = data.drop(['28 Day Death', 'In Hospital Death'], axis=1)\n",
    "y = data['28 Day Death']\n",
    "\n",
    "for column in X.columns:\n",
    "    X[column] = pd.to_numeric(X[column])\n",
    "    X[column] = X[column].fillna(X[column].mean())\n",
    "\n",
    "X_train, X_test, y_train, y_test = train_test_split(\n",
    "    X, y, test_size=0.3, random_state=seed)\n"
   ]
  },
  {
   "cell_type": "code",
   "execution_count": 2,
   "id": "c3fa6777",
   "metadata": {},
   "outputs": [],
   "source": [
    "X_train = X_train.reset_index(drop=True)\n",
    "X_test = X_test.reset_index(drop=True)\n",
    "y_train = y_train.reset_index(drop=True)\n",
    "y_test = y_test.reset_index(drop=True)"
   ]
  },
  {
   "cell_type": "code",
   "execution_count": 3,
   "id": "f1b67db8",
   "metadata": {},
   "outputs": [],
   "source": [
    "import numpy as np\n",
    "import scipy.stats\n",
    "\n",
    "\n",
    "def mean_confidence_interval(data, confidence=0.95):\n",
    "    a = 1.0 * np.array(data)\n",
    "    n = len(a)\n",
    "    m, se = np.mean(a), scipy.stats.sem(a)\n",
    "    h = se * scipy.stats.t.ppf((1 + confidence) / 2., n-1)\n",
    "    return m, m-h, m+h, h\n"
   ]
  },
  {
   "cell_type": "markdown",
   "id": "f9cb6b70",
   "metadata": {},
   "source": [
    "# Descriptive Statistics"
   ]
  },
  {
   "cell_type": "code",
   "execution_count": 2,
   "id": "35cd0ae8",
   "metadata": {},
   "outputs": [
    {
     "data": {
      "text/html": [
       "<div>\n",
       "<style scoped>\n",
       "    .dataframe tbody tr th:only-of-type {\n",
       "        vertical-align: middle;\n",
       "    }\n",
       "\n",
       "    .dataframe tbody tr th {\n",
       "        vertical-align: top;\n",
       "    }\n",
       "\n",
       "    .dataframe thead tr th {\n",
       "        text-align: left;\n",
       "    }\n",
       "</style>\n",
       "<table border=\"1\" class=\"dataframe\">\n",
       "  <thead>\n",
       "    <tr>\n",
       "      <th></th>\n",
       "      <th></th>\n",
       "      <th colspan=\"5\" halign=\"left\">Grouped by 28 Day Death</th>\n",
       "    </tr>\n",
       "    <tr>\n",
       "      <th></th>\n",
       "      <th></th>\n",
       "      <th>Missing</th>\n",
       "      <th>Overall</th>\n",
       "      <th>0</th>\n",
       "      <th>1</th>\n",
       "      <th>P-Value</th>\n",
       "    </tr>\n",
       "  </thead>\n",
       "  <tbody>\n",
       "    <tr>\n",
       "      <th>n</th>\n",
       "      <th></th>\n",
       "      <td></td>\n",
       "      <td>4555</td>\n",
       "      <td>2820</td>\n",
       "      <td>1735</td>\n",
       "      <td></td>\n",
       "    </tr>\n",
       "    <tr>\n",
       "      <th>Age, median [Q1,Q3]</th>\n",
       "      <th></th>\n",
       "      <td>0</td>\n",
       "      <td>68.5 [55.9,80.2]</td>\n",
       "      <td>66.2 [53.9,78.5]</td>\n",
       "      <td>72.2 [59.7,82.7]</td>\n",
       "      <td>&lt;0.001</td>\n",
       "    </tr>\n",
       "    <tr>\n",
       "      <th rowspan=\"2\" valign=\"top\">Gender, n (%)</th>\n",
       "      <th>0</th>\n",
       "      <td>0</td>\n",
       "      <td>2029 (44.5)</td>\n",
       "      <td>1290 (45.7)</td>\n",
       "      <td>739 (42.6)</td>\n",
       "      <td>0.041</td>\n",
       "    </tr>\n",
       "    <tr>\n",
       "      <th>1</th>\n",
       "      <td></td>\n",
       "      <td>2526 (55.5)</td>\n",
       "      <td>1530 (54.3)</td>\n",
       "      <td>996 (57.4)</td>\n",
       "      <td></td>\n",
       "    </tr>\n",
       "    <tr>\n",
       "      <th>LOS, mean (SD)</th>\n",
       "      <th></th>\n",
       "      <td>0</td>\n",
       "      <td>15.3 (17.1)</td>\n",
       "      <td>15.9 (16.9)</td>\n",
       "      <td>14.3 (17.5)</td>\n",
       "      <td>0.002</td>\n",
       "    </tr>\n",
       "    <tr>\n",
       "      <th>...</th>\n",
       "      <th>...</th>\n",
       "      <td>...</td>\n",
       "      <td>...</td>\n",
       "      <td>...</td>\n",
       "      <td>...</td>\n",
       "      <td>...</td>\n",
       "    </tr>\n",
       "    <tr>\n",
       "      <th rowspan=\"2\" valign=\"top\">inotropes, n (%)</th>\n",
       "      <th>2</th>\n",
       "      <td></td>\n",
       "      <td>525 (11.5)</td>\n",
       "      <td>187 (6.6)</td>\n",
       "      <td>338 (19.5)</td>\n",
       "      <td></td>\n",
       "    </tr>\n",
       "    <tr>\n",
       "      <th>3</th>\n",
       "      <td></td>\n",
       "      <td>65 (1.4)</td>\n",
       "      <td>20 (0.7)</td>\n",
       "      <td>45 (2.6)</td>\n",
       "      <td></td>\n",
       "    </tr>\n",
       "    <tr>\n",
       "      <th rowspan=\"3\" valign=\"top\">immunosuppresant, n (%)</th>\n",
       "      <th>0</th>\n",
       "      <td>0</td>\n",
       "      <td>2977 (65.4)</td>\n",
       "      <td>1974 (70.0)</td>\n",
       "      <td>1003 (57.8)</td>\n",
       "      <td>&lt;0.001</td>\n",
       "    </tr>\n",
       "    <tr>\n",
       "      <th>1</th>\n",
       "      <td></td>\n",
       "      <td>1132 (24.9)</td>\n",
       "      <td>600 (21.3)</td>\n",
       "      <td>532 (30.7)</td>\n",
       "      <td></td>\n",
       "    </tr>\n",
       "    <tr>\n",
       "      <th>2</th>\n",
       "      <td></td>\n",
       "      <td>446 (9.8)</td>\n",
       "      <td>246 (8.7)</td>\n",
       "      <td>200 (11.5)</td>\n",
       "      <td></td>\n",
       "    </tr>\n",
       "  </tbody>\n",
       "</table>\n",
       "<p>186 rows × 5 columns</p>\n",
       "</div><br />[1] Chi-squared tests for the following variables may be invalid due to the low number of observations: Protein, Urobilinogen, Ketone, ICUs, Yeast, antibiotics, antivirals, antifungals.<br />"
      ],
      "text/plain": [
       "                                                     Grouped by 28 Day Death                                                                 \n",
       "                                                                     Missing            Overall                  0                  1 P-Value\n",
       "n                                                                                          4555               2820               1735        \n",
       "Age, median [Q1,Q3]                                                        0   68.5 [55.9,80.2]   66.2 [53.9,78.5]   72.2 [59.7,82.7]  <0.001\n",
       "Gender, n (%)                                  0                           0        2029 (44.5)        1290 (45.7)         739 (42.6)   0.041\n",
       "                                               1                                    2526 (55.5)        1530 (54.3)         996 (57.4)        \n",
       "LOS, mean (SD)                                                             0        15.3 (17.1)        15.9 (16.9)        14.3 (17.5)   0.002\n",
       "Hypertension, n (%)                            0.0                       124        2771 (62.5)        1751 (62.4)        1020 (62.7)   0.896\n",
       "                                               1.0                                  1660 (37.5)        1053 (37.6)         607 (37.3)        \n",
       "Hyperlipidemia, n (%)                          0.0                       124        4253 (96.0)        2667 (95.1)        1586 (97.5)  <0.001\n",
       "                                               1.0                                    178 (4.0)          137 (4.9)           41 (2.5)        \n",
       "Diabetes, n (%)                                0.0                       124        4141 (93.5)        2613 (93.2)        1528 (93.9)   0.379\n",
       "                                               1.0                                    290 (6.5)          191 (6.8)           99 (6.1)        \n",
       "Hematocrit, mean (SD)                                                      6         33.9 (6.4)         34.1 (6.2)         33.4 (6.6)  <0.001\n",
       "Hematocrit, Calculated, mean (SD)                                       2654         31.4 (6.7)         31.7 (6.5)         31.0 (7.0)   0.033\n",
       "Hemoglobin, mean (SD)                                                      7         11.3 (2.2)         11.4 (2.2)         11.0 (2.2)  <0.001\n",
       "Red Blood Cells, mean (SD)                                                10          3.7 (0.8)          3.8 (0.7)          3.6 (0.8)  <0.001\n",
       "Nucleated Red Cells, mean (SD)                                          3651         4.1 (14.2)          2.4 (4.1)         5.4 (18.1)  <0.001\n",
       "RDW, mean (SD)                                                             9         15.8 (2.4)         15.4 (2.2)         16.6 (2.6)  <0.001\n",
       "MCH, mean (SD)                                                            10         30.3 (3.0)         30.1 (2.9)         30.5 (3.2)  <0.001\n",
       "MCHC, mean (SD)                                                            8         33.2 (1.6)         33.3 (1.6)         32.9 (1.7)  <0.001\n",
       "MCV, mean (SD)                                                            10         91.3 (8.2)         90.4 (7.7)         92.7 (8.8)  <0.001\n",
       "White Blood Cells, mean (SD)                                               7        14.2 (12.0)        14.1 (11.6)        14.4 (12.7)   0.527\n",
       "Lymphocytes, mean (SD)                                                   123        10.8 (11.8)        10.7 (11.6)        10.9 (12.2)   0.601\n",
       "Lymphs, mean (SD)                                                       4287        49.1 (32.6)        50.5 (32.1)        46.1 (33.8)   0.317\n",
       "Basophils, mean (SD)                                                     137          0.2 (0.4)          0.2 (0.5)          0.2 (0.4)   0.263\n",
       "Eosinophils, mean (SD)                                                   166          0.9 (2.4)          0.8 (2.0)          0.9 (2.9)   0.346\n",
       "Neutrophils, mean (SD)                                                   137        77.6 (17.5)        78.1 (16.5)        76.7 (18.9)   0.009\n",
       "Monocytes, mean (SD)                                                     130          4.6 (4.7)          4.5 (4.7)          4.7 (4.7)   0.128\n",
       "Monos, mean (SD)                                                        3936         8.2 (12.9)         8.1 (12.6)         8.3 (13.3)   0.873\n",
       "Atypical Lymphocytes, mean (SD)                                         1484          0.6 (2.4)          0.6 (2.1)          0.6 (2.8)   0.873\n",
       "Platelet Count, mean (SD)                                                  5      242.2 (151.4)      251.4 (151.5)      227.3 (150.0)  <0.001\n",
       "Reticulocyte Count, Automated, mean (SD)                                3589          2.2 (1.6)          2.2 (1.6)          2.4 (1.8)   0.077\n",
       "C-Reactive Protein, mean (SD)                                           3857       108.4 (97.4)       102.4 (95.4)      124.9 (100.9)   0.009\n",
       "Vitamin B12, mean (SD)                                                  3691     1064.4 (560.6)     1002.8 (545.0)     1198.3 (571.7)  <0.001\n",
       "Folate, mean (SD)                                                       3796         12.4 (4.6)         12.3 (4.5)         12.5 (4.9)   0.661\n",
       "Haptoglobin, mean (SD)                                                  3136      191.0 (130.2)      216.9 (127.5)      155.4 (125.6)  <0.001\n",
       "Lactate Dehydrogenase (LD), mean (SD)                                    950     488.9 (1117.5)      363.6 (779.9)     674.0 (1462.2)  <0.001\n",
       "Iron, mean (SD)                                                         2994        42.5 (38.1)        37.3 (29.6)        53.4 (49.9)  <0.001\n",
       "Iron Binding Capacity, Total, mean (SD)                                 3037       177.5 (64.8)       185.6 (64.2)       160.2 (62.9)  <0.001\n",
       "Transferrin, mean (SD)                                                  3036       136.4 (50.0)       142.6 (49.5)       123.2 (48.4)  <0.001\n",
       "Ferritin, mean (SD)                                                     3041     939.8 (2363.6)     757.8 (1300.6)    1331.9 (3711.1)   0.001\n",
       "Albumin, mean (SD)                                                       565          2.9 (0.7)          3.0 (0.7)          2.7 (0.7)  <0.001\n",
       "Protein, n (%)                                 0.0                       593        1660 (41.9)        1032 (42.1)         628 (41.5)   0.285\n",
       "                                               100.0                                 467 (11.8)         289 (11.8)         178 (11.8)        \n",
       "                                               150.0                                   43 (1.1)           25 (1.0)           18 (1.2)        \n",
       "                                               25.0                                   164 (4.1)          108 (4.4)           56 (3.7)        \n",
       "                                               30.0                                 1236 (31.2)         746 (30.5)         490 (32.4)        \n",
       "                                               300.0                                   37 (0.9)           18 (0.7)           19 (1.3)        \n",
       "                                               301.0                                   74 (1.9)           44 (1.8)           30 (2.0)        \n",
       "                                               500.0                                  134 (3.4)           91 (3.7)           43 (2.8)        \n",
       "                                               600.0                                    6 (0.2)            2 (0.1)            4 (0.3)        \n",
       "                                               601.0                                    2 (0.1)            2 (0.1)                           \n",
       "                                               75.0                                   139 (3.5)           92 (3.8)           47 (3.1)        \n",
       "Bilirubin, Total, mean (SD)                                              327          2.1 (4.6)          1.5 (3.3)          3.1 (6.0)  <0.001\n",
       "Alanine Aminotransferase (ALT), mean (SD)                                334      108.5 (481.4)       87.2 (434.3)      142.0 (545.8)   0.001\n",
       "Asparate Aminotransferase (AST), mean (SD)                               332      186.7 (979.0)      128.1 (720.5)     278.9 (1279.3)  <0.001\n",
       "Alkaline Phosphatase, mean (SD)                                          359      149.5 (171.1)      134.1 (132.0)      173.6 (216.6)  <0.001\n",
       "Protein, Total, mean (SD)                                               3992          5.4 (1.0)          5.5 (1.0)          5.4 (1.0)   0.101\n",
       "Bilirubin, Direct, mean (SD)                                            3368          3.6 (5.2)          2.7 (4.3)          4.6 (5.8)  <0.001\n",
       "Bilirubin, Indirect, mean (SD)                                          3419          1.8 (2.5)          1.1 (1.5)          2.5 (3.1)  <0.001\n",
       "Gamma Glutamyltransferase, mean (SD)                                    4319      380.5 (606.9)      332.5 (358.2)      453.1 (852.9)   0.197\n",
       "Globulin, mean (SD)                                                     4291          2.7 (0.8)          2.8 (0.8)          2.5 (0.9)   0.023\n",
       "Amylase, mean (SD)                                                      2033      110.0 (241.6)      106.8 (249.0)      114.4 (230.6)   0.430\n",
       "Lipase, mean (SD)                                                       1370      112.6 (641.9)      114.4 (615.6)      109.7 (680.0)   0.843\n",
       "Urobilinogen, n (%)                            0.0                       973        2414 (67.4)        1527 (69.4)         887 (64.2)   0.004\n",
       "                                               0.2                                    172 (4.8)          103 (4.7)           69 (5.0)        \n",
       "                                               1.0                                   381 (10.6)          217 (9.9)         164 (11.9)        \n",
       "                                               12.0                                    23 (0.6)            7 (0.3)           16 (1.2)        \n",
       "                                               13.0                                     1 (0.0)                               1 (0.1)        \n",
       "                                               2.0                                    211 (5.9)          126 (5.7)           85 (6.2)        \n",
       "                                               4.0                                    283 (7.9)          160 (7.3)          123 (8.9)        \n",
       "                                               8.0                                     96 (2.7)           60 (2.7)           36 (2.6)        \n",
       "                                               9.0                                      1 (0.0)                               1 (0.1)        \n",
       "Sodium, mean (SD)                                                          5        137.5 (6.6)        137.5 (6.0)        137.4 (7.4)   0.425\n",
       "Sodium, Whole Blood, mean (SD)                                          2770        136.6 (6.7)        136.7 (6.4)        136.5 (7.0)   0.588\n",
       "Potassium, mean (SD)                                                       6          4.4 (1.0)          4.3 (0.9)          4.5 (1.0)  <0.001\n",
       "Potassium, Whole Blood, mean (SD)                                       1907          4.3 (1.0)          4.1 (1.0)          4.4 (1.1)  <0.001\n",
       "Chloride, mean (SD)                                                        5        102.1 (7.7)        102.2 (7.4)        102.1 (8.1)   0.578\n",
       "Chloride, Whole Blood, mean (SD)                                        2929        104.6 (7.6)        104.7 (7.4)        104.5 (7.9)   0.576\n",
       "Osmolality, Measured, mean (SD)                                         3925       295.9 (26.4)       294.7 (27.2)       297.4 (25.3)   0.208\n",
       "Urea Nitrogen, mean (SD)                                                   4        37.4 (27.6)        33.3 (24.8)        44.1 (30.5)  <0.001\n",
       "Creatinine, mean (SD)                                                      4         2.2 (12.1)          1.9 (1.8)         2.7 (19.4)   0.103\n",
       "Protein/Creatinine Ratio, mean (SD)                                     4120          1.9 (3.6)          1.8 (3.4)          2.0 (3.8)   0.511\n",
       "Uric Acid, mean (SD)                                                    4068          6.3 (3.4)          5.8 (3.0)          6.8 (3.8)   0.001\n",
       "Bicarbonate, mean (SD)                                                     6         22.7 (5.4)         23.0 (5.1)         22.3 (6.0)  <0.001\n",
       "Calculated Bicarbonate, Whole Blood, mean (SD)                          3891         22.2 (6.5)         22.8 (5.9)         21.5 (7.2)   0.014\n",
       "Base Excess, mean (SD)                                                   815         -3.0 (6.4)         -2.5 (5.7)         -3.8 (7.0)  <0.001\n",
       "Anion Gap, mean (SD)                                                       6         17.0 (5.0)         16.6 (4.5)         17.6 (5.6)  <0.001\n",
       "Calculated Total CO2, mean (SD)                                          815         23.2 (6.5)         23.6 (6.0)         22.6 (7.0)  <0.001\n",
       "Ketone, n (%)                                  0.0                      1052        2936 (83.8)        1789 (82.6)        1147 (85.7)   0.028\n",
       "                                               10.0                                   149 (4.3)           98 (4.5)           51 (3.8)        \n",
       "                                               15.0                                   251 (7.2)          154 (7.1)           97 (7.2)        \n",
       "                                               150.0                                   44 (1.3)           35 (1.6)            9 (0.7)        \n",
       "                                               40.0                                    51 (1.5)           37 (1.7)           14 (1.0)        \n",
       "                                               50.0                                    65 (1.9)           46 (2.1)           19 (1.4)        \n",
       "                                               80.0                                     5 (0.1)            5 (0.2)                           \n",
       "                                               81.0                                     2 (0.1)            1 (0.0)            1 (0.1)        \n",
       "Lactate, mean (SD)                                                       146          2.9 (2.3)          2.6 (1.8)          3.4 (2.8)  <0.001\n",
       "pCO2, mean (SD)                                                          815        41.5 (14.4)        41.4 (13.5)        41.5 (15.5)   0.825\n",
       "pH, mean (SD)                                                             67          6.3 (1.1)          6.3 (1.1)          6.4 (1.0)   0.001\n",
       "pO2, mean (SD)                                                           814      131.8 (103.7)      131.0 (101.2)      132.8 (107.1)   0.584\n",
       "Calcium, Total, mean (SD)                                                 28          8.2 (1.0)          8.2 (1.0)          8.3 (1.1)   0.007\n",
       "Free Calcium, mean (SD)                                                 1579          1.1 (0.1)          1.1 (0.1)          1.1 (0.1)   0.255\n",
       "Magnesium, mean (SD)                                                      25          1.9 (0.5)          1.8 (0.4)          2.0 (0.5)  <0.001\n",
       "Phosphate, mean (SD)                                                      28          3.8 (1.7)          3.5 (1.5)          4.2 (1.8)  <0.001\n",
       "Troponin T, mean (SD)                                                   1658          0.3 (1.2)          0.2 (0.9)          0.3 (1.5)   0.005\n",
       "Creatine Kinase (CK), mean (SD)                                         1194     585.3 (5531.0)     548.3 (5094.8)     637.9 (6099.9)   0.654\n",
       "Creatine Kinase, MB Isoenzyme, mean (SD)                                2298        12.5 (39.9)        10.5 (33.0)        15.2 (47.9)   0.010\n",
       "CK-MB Index, mean (SD)                                                  3729          5.8 (5.6)          5.1 (4.7)          6.5 (6.2)  <0.001\n",
       "NTproBNP, mean (SD)                                                     3944  11018.7 (16179.9)  10777.5 (17084.1)  11342.0 (14907.7)   0.664\n",
       "PT, mean (SD)                                                             69        18.0 (11.1)         17.1 (9.9)        19.5 (12.7)  <0.001\n",
       "PTT, mean (SD)                                                            71        36.5 (19.7)        34.6 (17.4)        39.6 (22.6)  <0.001\n",
       "INR(PT), mean (SD)                                                        69          1.8 (2.3)          1.7 (2.1)          2.0 (2.4)  <0.001\n",
       "D-Dimer, mean (SD)                                                      3893    4727.0 (4519.6)    4137.8 (4152.0)    5291.7 (4784.4)   0.001\n",
       "Fibrinogen, Functional, mean (SD)                                       2445      433.4 (235.8)      481.1 (231.8)      383.6 (229.7)  <0.001\n",
       "Fibrin Degradation Products, mean (SD)                                  3698       47.0 (135.8)       43.8 (137.6)       49.6 (134.5)   0.538\n",
       "Cholesterol Ratio (Total/HDL), mean (SD)                                4166          6.2 (5.9)          6.1 (5.7)          6.3 (6.1)   0.766\n",
       "Cholesterol, HDL, mean (SD)                                             4157        31.1 (19.6)        31.2 (19.1)        31.1 (20.6)   0.969\n",
       "Cholesterol, LDL, Calculated, mean (SD)                                 4188        66.0 (38.1)        67.0 (40.5)        64.4 (34.0)   0.500\n",
       "Cholesterol, Total, mean (SD)                                           4119       131.0 (81.9)       134.1 (91.4)       126.2 (64.3)   0.292\n",
       "Triglycerides, mean (SD)                                                3473      176.6 (236.7)      187.7 (267.9)      160.7 (182.6)   0.049\n",
       "Glucose, mean (SD)                                                         5      143.2 (114.1)      145.5 (117.6)      139.4 (108.1)   0.074\n",
       "% Hemoglobin A1c, mean (SD)                                             4230          6.9 (2.0)          7.1 (2.1)          6.4 (1.3)  <0.001\n",
       "Parathyroid Hormone, mean (SD)                                          4310      208.0 (404.3)      209.8 (319.8)      204.8 (520.8)   0.935\n",
       "Thyroid Stimulating Hormone, mean (SD)                                  3012          3.5 (5.1)          3.3 (4.8)          3.7 (5.6)   0.124\n",
       "Thyroxine (T4), mean (SD)                                               4314          5.3 (2.5)          5.7 (2.3)          4.7 (2.7)   0.002\n",
       "Thyroxine (T4), Free, mean (SD)                                         4102          1.1 (0.5)          1.1 (0.5)          1.1 (0.5)   0.913\n",
       "STEMI, n (%)                                   0.0                       338        3924 (93.1)        2460 (93.5)        1464 (92.2)   0.126\n",
       "                                               1.0                                    293 (6.9)          170 (6.5)          123 (7.8)        \n",
       "AF, n (%)                                      0.0                       338        3063 (72.6)        2032 (77.3)        1031 (65.0)  <0.001\n",
       "                                               1.0                                  1154 (27.4)         598 (22.7)         556 (35.0)        \n",
       "inferior MI, n (%)                             0.0                       338        3811 (90.4)        2407 (91.5)        1404 (88.5)   0.001\n",
       "                                               1.0                                    406 (9.6)          223 (8.5)         183 (11.5)        \n",
       "CXR_pneumonia, n (%)                           0.0                      1049         999 (28.5)         681 (31.0)         318 (24.3)  <0.001\n",
       "                                               1.0                                  2507 (71.5)        1514 (69.0)         993 (75.7)        \n",
       "ICUs, n (%)                                    0                           0            4 (0.1)            3 (0.1)            1 (0.1)  <0.001\n",
       "                                               1                                    3976 (87.3)        2523 (89.5)        1453 (83.7)        \n",
       "                                               2                                     460 (10.1)          239 (8.5)         221 (12.7)        \n",
       "                                               3                                       92 (2.0)           47 (1.7)           45 (2.6)        \n",
       "                                               4                                       20 (0.4)            6 (0.2)           14 (0.8)        \n",
       "                                               5                                        3 (0.1)            2 (0.1)            1 (0.1)        \n",
       "ICU_LOS, mean (SD)                                                         4          7.2 (9.8)          6.9 (9.9)          7.8 (9.7)   0.003\n",
       "Bacteriemia, mean (SD)                                                     0          4.4 (9.3)          4.5 (9.4)          4.1 (9.3)   0.102\n",
       "Gram Positive, mean (SD)                                                   0          2.4 (7.0)          2.4 (7.2)          2.4 (6.8)   0.859\n",
       "Gram Negative, mean (SD)                                                   0          1.9 (6.2)          2.1 (6.3)          1.6 (6.1)   0.007\n",
       "Yeast, n (%)                                   0                           0        4427 (97.2)        2774 (98.4)        1653 (95.3)  <0.001\n",
       "                                               1                                       74 (1.6)           28 (1.0)           46 (2.7)        \n",
       "                                               10                                       2 (0.0)                               2 (0.1)        \n",
       "                                               2                                       17 (0.4)            5 (0.2)           12 (0.7)        \n",
       "                                               3                                       10 (0.2)            4 (0.1)            6 (0.3)        \n",
       "                                               4                                       12 (0.3)            5 (0.2)            7 (0.4)        \n",
       "                                               5                                        5 (0.1)            2 (0.1)            3 (0.2)        \n",
       "                                               6                                        4 (0.1)            1 (0.0)            3 (0.2)        \n",
       "                                               7                                        2 (0.0)            1 (0.0)            1 (0.1)        \n",
       "                                               8                                        1 (0.0)                               1 (0.1)        \n",
       "                                               9                                        1 (0.0)                               1 (0.1)        \n",
       "Contaminant, mean (SD)                                                     0          1.0 (5.0)          1.0 (5.3)          0.9 (4.6)   0.194\n",
       "Other Pathogen, mean (SD)                                                  0          0.4 (2.5)          0.4 (2.5)          0.4 (2.6)   0.752\n",
       "antibiotics, n (%)                             0                           0           33 (0.7)            7 (0.2)           26 (1.5)  <0.001\n",
       "                                               1                                      128 (2.8)           99 (3.5)           29 (1.7)        \n",
       "                                               10                                      21 (0.5)           12 (0.4)            9 (0.5)        \n",
       "                                               11                                      10 (0.2)            3 (0.1)            7 (0.4)        \n",
       "                                               15                                       1 (0.0)            1 (0.0)                           \n",
       "                                               2                                     568 (12.5)         373 (13.2)         195 (11.2)        \n",
       "                                               3                                    1072 (23.5)         662 (23.5)         410 (23.6)        \n",
       "                                               4                                    1063 (23.3)         672 (23.8)         391 (22.5)        \n",
       "                                               5                                     791 (17.4)         494 (17.5)         297 (17.1)        \n",
       "                                               6                                     462 (10.1)          276 (9.8)         186 (10.7)        \n",
       "                                               7                                      259 (5.7)          143 (5.1)          116 (6.7)        \n",
       "                                               8                                      104 (2.3)           58 (2.1)           46 (2.7)        \n",
       "                                               9                                       43 (0.9)           20 (0.7)           23 (1.3)        \n",
       "antivirals, n (%)                              0                           0        4073 (89.4)        2515 (89.2)        1558 (89.8)   0.537\n",
       "                                               1                                     455 (10.0)         288 (10.2)          167 (9.6)        \n",
       "                                               2                                       26 (0.6)           17 (0.6)            9 (0.5)        \n",
       "                                               3                                        1 (0.0)                               1 (0.1)        \n",
       "antifungals, n (%)                             0                           0        3612 (79.3)        2288 (81.1)        1324 (76.3)  <0.001\n",
       "                                               1                                     767 (16.8)         463 (16.4)         304 (17.5)        \n",
       "                                               2                                      131 (2.9)           53 (1.9)           78 (4.5)        \n",
       "                                               3                                       40 (0.9)           13 (0.5)           27 (1.6)        \n",
       "                                               4                                        5 (0.1)            3 (0.1)            2 (0.1)        \n",
       "inotropes, n (%)                               0                           0        1863 (40.9)        1407 (49.9)         456 (26.3)  <0.001\n",
       "                                               1                                    2102 (46.1)        1206 (42.8)         896 (51.6)        \n",
       "                                               2                                     525 (11.5)          187 (6.6)         338 (19.5)        \n",
       "                                               3                                       65 (1.4)           20 (0.7)           45 (2.6)        \n",
       "immunosuppresant, n (%)                        0                           0        2977 (65.4)        1974 (70.0)        1003 (57.8)  <0.001\n",
       "                                               1                                    1132 (24.9)         600 (21.3)         532 (30.7)        \n",
       "                                               2                                      446 (9.8)          246 (8.7)         200 (11.5)        \n",
       "[1] Chi-squared tests for the following variables may be invalid due to the low number of observations: Protein, Urobilinogen, Ketone, ICUs, Yeast, antibiotics, antivirals, antifungals."
      ]
     },
     "execution_count": 2,
     "metadata": {},
     "output_type": "execute_result"
    }
   ],
   "source": [
    "from tableone import TableOne, load_dataset\n",
    "import pandas as pd\n",
    "\n",
    "data_filtered = data.drop(['In Hospital Death'], axis=1)\n",
    "columns = list(data_filtered.columns.values)\n",
    "groupby = ['28 Day Death']\n",
    "nonnormal = ['Age']\n",
    "# labels={'28 Day Death': 'Mortality'}\n",
    "mytable = TableOne(data_filtered, columns=columns, groupby=groupby, nonnormal=nonnormal, pval=True)\n",
    "mytable"
   ]
  },
  {
   "cell_type": "code",
   "execution_count": 12,
   "id": "65a84e77",
   "metadata": {},
   "outputs": [
    {
     "name": "stderr",
     "output_type": "stream",
     "text": [
      "/Users/llja0112/anaconda3/lib/python3.8/site-packages/ipykernel/ipkernel.py:287: DeprecationWarning: `should_run_async` will not call `transform_cell` automatically in the future. Please pass the result to `transformed_cell` argument and any exception that happen during thetransform in `preprocessing_exc_tuple` in IPython 7.17 and above.\n",
      "  and should_run_async(code)\n"
     ]
    }
   ],
   "source": [
    "mytable.to_csv('summary_28_death.csv')"
   ]
  },
  {
   "cell_type": "markdown",
   "id": "4325204b",
   "metadata": {},
   "source": [
    "# Logistic Regression\n",
    "\n"
   ]
  },
  {
   "cell_type": "code",
   "execution_count": 26,
   "id": "3b581e67",
   "metadata": {},
   "outputs": [
    {
     "name": "stdout",
     "output_type": "stream",
     "text": [
      "ROC AUC: 0.8123929571466114\n",
      "Average Precision: 0.748206340300866\n",
      "Accuracy: 0.7600585223116313\n"
     ]
    }
   ],
   "source": [
    "from sklearn.pipeline import Pipeline\n",
    "from sklearn.preprocessing import StandardScaler\n",
    "from sklearn.linear_model import LogisticRegression\n",
    "from sklearn.metrics import roc_auc_score\n",
    "from sklearn.metrics import average_precision_score\n",
    "from sklearn.metrics import accuracy_score\n",
    "\n",
    "estimators = [('Scaler', StandardScaler()), ('Log_Reg', LogisticRegression(random_state=seed, solver='liblinear'))]\n",
    "pipe = Pipeline(estimators)\n",
    "\n",
    "clf = pipe.fit(X_train, y_train)\n",
    "\n",
    "roc_auc = roc_auc_score(y_test, clf.predict_proba(X_test)[:, 1])\n",
    "print(\"ROC AUC: \" + str(roc_auc))\n",
    "\n",
    "average_precision = average_precision_score(y_test, clf.predict_proba(X_test)[:, 1])\n",
    "print(\"Average Precision: \" + str(average_precision))\n",
    "\n",
    "accuracy = accuracy_score(y_test, clf.predict(X_test))\n",
    "print(\"Accuracy: \" + str(accuracy))"
   ]
  },
  {
   "cell_type": "code",
   "execution_count": 29,
   "id": "08b9cb74",
   "metadata": {},
   "outputs": [
    {
     "name": "stdout",
     "output_type": "stream",
     "text": [
      "(0.8199049730757048, 0.812667940363127, 0.8271420057882826, 0.007237032712577791)\n",
      "(0.765024286168822, 0.7557855548512731, 0.7742630174863709, 0.009238731317548916)\n",
      "(0.7658, 0.7585069825633596, 0.7730930174366405, 0.0072930174366405065)\n"
     ]
    }
   ],
   "source": [
    "from sklearn.utils import resample\n",
    "\n",
    "auroc_array = []\n",
    "auprc_array = []\n",
    "accuracy_array = []\n",
    "\n",
    "predictions = clf.predict(X_test)\n",
    "probs = clf.predict_proba(X_test)[:, 1]\n",
    "\n",
    "for i in range(50):\n",
    "    X_test_bs = resample(X_test, n_samples=200, replace=False, stratify=y_test,\n",
    "             random_state=i)\n",
    "    y_test_bs = y_test[X_test_bs.index]\n",
    "    \n",
    "    # scores_bs = scores[X_test_bs.index]\n",
    "    probs_bs = probs[X_test_bs.index]\n",
    "    predictions_bs = predictions[X_test_bs.index]\n",
    "\n",
    "    # scores,probs,predictions = explainer.predict_calculator(X_test_bs, 1)\n",
    "    auroc = roc_auc_score(y_test_bs, probs_bs)\n",
    "    auprc = average_precision_score(y_test_bs, probs_bs)\n",
    "    accuracy = accuracy_score(y_test_bs, predictions_bs)\n",
    "    \n",
    "    auroc_array.append(auroc)\n",
    "    auprc_array.append(auprc)\n",
    "    accuracy_array.append(accuracy)\n",
    "    \n",
    "\n",
    "print(mean_confidence_interval(auroc_array))\n",
    "print(mean_confidence_interval(auprc_array))\n",
    "print(mean_confidence_interval(accuracy_array))"
   ]
  },
  {
   "cell_type": "markdown",
   "id": "8cc3f892",
   "metadata": {},
   "source": [
    "# Gradient Boosting"
   ]
  },
  {
   "cell_type": "code",
   "execution_count": 15,
   "id": "2ae04034",
   "metadata": {},
   "outputs": [
    {
     "name": "stdout",
     "output_type": "stream",
     "text": [
      "{'max_depth': 5, 'n_estimators': 180}\n",
      "0.8565293211001734\n"
     ]
    }
   ],
   "source": [
    "from sklearn.model_selection import GridSearchCV\n",
    "from sklearn.ensemble import GradientBoostingClassifier\n",
    "\n",
    "parameters = {\n",
    "    'n_estimators': [160, 180, 200, 220], \n",
    "    'max_depth':[1, 3, 5]\n",
    "}\n",
    "\n",
    "GBoost = GradientBoostingClassifier(random_state=seed)\n",
    "clf = GridSearchCV(GBoost, parameters, scoring='roc_auc')\n",
    "clf.fit(X_train, y_train)\n",
    "\n",
    "print(clf.best_params_)\n",
    "print(clf.best_score_)\n"
   ]
  },
  {
   "cell_type": "code",
   "execution_count": 30,
   "id": "dd476933",
   "metadata": {},
   "outputs": [
    {
     "name": "stdout",
     "output_type": "stream",
     "text": [
      "ROC AUC: 0.8783970530932552\n",
      "Average Precision: 0.8385398366600897\n",
      "Accuracy: 0.8039502560351134\n"
     ]
    }
   ],
   "source": [
    "from sklearn.ensemble import GradientBoostingClassifier\n",
    "from sklearn.metrics import roc_auc_score\n",
    "from sklearn.metrics import average_precision_score\n",
    "from sklearn.metrics import accuracy_score\n",
    "\n",
    "clf = GradientBoostingClassifier(n_estimators=180, max_depth=5, random_state=seed).fit(X_train, y_train)\n",
    "\n",
    "roc_auc = roc_auc_score(y_test, clf.predict_proba(X_test)[:, 1])\n",
    "print(\"ROC AUC: \" + str(roc_auc))\n",
    "\n",
    "average_precision = average_precision_score(y_test, clf.predict_proba(X_test)[:, 1])\n",
    "print(\"Average Precision: \" + str(average_precision))\n",
    "\n",
    "accuracy = accuracy_score(y_test, clf.predict(X_test))\n",
    "print(\"Accuracy: \" + str(accuracy))"
   ]
  },
  {
   "cell_type": "code",
   "execution_count": 31,
   "id": "40fb0f65",
   "metadata": {},
   "outputs": [
    {
     "name": "stdout",
     "output_type": "stream",
     "text": [
      "(0.8831464470488861, 0.8783409867684937, 0.8879519073292785, 0.0048054602803923804)\n",
      "(0.849891237484518, 0.8428079062915634, 0.8569745686774726, 0.007083331192954527)\n",
      "(0.8093, 0.8031159940316187, 0.8154840059683813, 0.006184005968381297)\n"
     ]
    }
   ],
   "source": [
    "from sklearn.utils import resample\n",
    "\n",
    "auroc_array = []\n",
    "auprc_array = []\n",
    "accuracy_array = []\n",
    "\n",
    "predictions = clf.predict(X_test)\n",
    "probs = clf.predict_proba(X_test)[:, 1]\n",
    "\n",
    "for i in range(50):\n",
    "    X_test_bs = resample(X_test, n_samples=200, replace=False, stratify=y_test,\n",
    "             random_state=i)\n",
    "    y_test_bs = y_test[X_test_bs.index]\n",
    "    \n",
    "    # scores_bs = scores[X_test_bs.index]\n",
    "    probs_bs = probs[X_test_bs.index]\n",
    "    predictions_bs = predictions[X_test_bs.index]\n",
    "\n",
    "    # scores,probs,predictions = explainer.predict_calculator(X_test_bs, 1)\n",
    "    auroc = roc_auc_score(y_test_bs, probs_bs)\n",
    "    auprc = average_precision_score(y_test_bs, probs_bs)\n",
    "    accuracy = accuracy_score(y_test_bs, predictions_bs)\n",
    "    \n",
    "    auroc_array.append(auroc)\n",
    "    auprc_array.append(auprc)\n",
    "    accuracy_array.append(accuracy)\n",
    "    \n",
    "\n",
    "print(mean_confidence_interval(auroc_array))\n",
    "print(mean_confidence_interval(auprc_array))\n",
    "print(mean_confidence_interval(accuracy_array))"
   ]
  },
  {
   "cell_type": "markdown",
   "id": "931ad3f4",
   "metadata": {},
   "source": [
    "# Random Forest"
   ]
  },
  {
   "cell_type": "code",
   "execution_count": 24,
   "id": "c4f8c548",
   "metadata": {},
   "outputs": [
    {
     "name": "stdout",
     "output_type": "stream",
     "text": [
      "{'max_depth': 5, 'n_estimators': 340}\n",
      "0.8221197133661826\n"
     ]
    }
   ],
   "source": [
    "from sklearn.model_selection import GridSearchCV\n",
    "from sklearn.ensemble import RandomForestClassifier\n",
    "\n",
    "parameters = {\n",
    "    'n_estimators': [220, 240, 260, 300, 340], \n",
    "    'max_depth':[1, 3, 5]\n",
    "}\n",
    "\n",
    "RanFor = RandomForestClassifier(n_estimators=110, max_depth=7, random_state=seed)\n",
    "clf = GridSearchCV(RanFor, parameters, scoring='roc_auc')\n",
    "clf.fit(X_train, y_train)\n",
    "\n",
    "print(clf.best_params_)\n",
    "print(clf.best_score_)"
   ]
  },
  {
   "cell_type": "code",
   "execution_count": 32,
   "id": "9afe924e",
   "metadata": {},
   "outputs": [
    {
     "name": "stdout",
     "output_type": "stream",
     "text": [
      "ROC AUC: 0.829528875517657\n",
      "Average Precision: 0.7764061556474027\n",
      "Accuracy: 0.7425018288222385\n"
     ]
    }
   ],
   "source": [
    "from sklearn.ensemble import RandomForestClassifier\n",
    "from sklearn.metrics import roc_auc_score\n",
    "from sklearn.metrics import average_precision_score\n",
    "from sklearn.metrics import accuracy_score\n",
    "\n",
    "clf = RandomForestClassifier(n_estimators=140, max_depth=5, random_state=seed)\n",
    "clf.fit(X_train, y_train)\n",
    "\n",
    "roc_auc = roc_auc_score(y_test, clf.predict_proba(X_test)[:, 1])\n",
    "print(\"ROC AUC: \" + str(roc_auc))\n",
    "\n",
    "average_precision = average_precision_score(y_test, clf.predict_proba(X_test)[:, 1])\n",
    "print(\"Average Precision: \" + str(average_precision))\n",
    "\n",
    "accuracy = accuracy_score(y_test, clf.predict(X_test))\n",
    "print(\"Accuracy: \" + str(accuracy))"
   ]
  },
  {
   "cell_type": "code",
   "execution_count": 33,
   "id": "6d10a2f1",
   "metadata": {},
   "outputs": [
    {
     "name": "stdout",
     "output_type": "stream",
     "text": [
      "(0.8334009080350545, 0.8262795919328006, 0.8405222241373084, 0.00712131610225382)\n",
      "(0.7857272241072286, 0.7760074099061498, 0.7954470383083074, 0.009719814201078765)\n",
      "(0.7458, 0.7398306233284224, 0.7517693766715776, 0.0059693766715776)\n"
     ]
    }
   ],
   "source": [
    "from sklearn.utils import resample\n",
    "\n",
    "auroc_array = []\n",
    "auprc_array = []\n",
    "accuracy_array = []\n",
    "\n",
    "predictions = clf.predict(X_test)\n",
    "probs = clf.predict_proba(X_test)[:, 1]\n",
    "\n",
    "for i in range(50):\n",
    "    X_test_bs = resample(X_test, n_samples=200, replace=False, stratify=y_test,\n",
    "             random_state=i)\n",
    "    y_test_bs = y_test[X_test_bs.index]\n",
    "    \n",
    "    # scores_bs = scores[X_test_bs.index]\n",
    "    probs_bs = probs[X_test_bs.index]\n",
    "    predictions_bs = predictions[X_test_bs.index]\n",
    "\n",
    "    # scores,probs,predictions = explainer.predict_calculator(X_test_bs, 1)\n",
    "    auroc = roc_auc_score(y_test_bs, probs_bs)\n",
    "    auprc = average_precision_score(y_test_bs, probs_bs)\n",
    "    accuracy = accuracy_score(y_test_bs, predictions_bs)\n",
    "    \n",
    "    auroc_array.append(auroc)\n",
    "    auprc_array.append(auprc)\n",
    "    accuracy_array.append(accuracy)\n",
    "    \n",
    "\n",
    "print(mean_confidence_interval(auroc_array))\n",
    "print(mean_confidence_interval(auprc_array))\n",
    "print(mean_confidence_interval(accuracy_array))"
   ]
  },
  {
   "cell_type": "code",
   "execution_count": 11,
   "id": "e50d7733",
   "metadata": {},
   "outputs": [],
   "source": [
    "import shap\n",
    "\n",
    "explainer = shap.TreeExplainer(clf)\n",
    "shap_values = explainer.shap_values(X)"
   ]
  },
  {
   "cell_type": "code",
   "execution_count": 12,
   "id": "d64838be",
   "metadata": {},
   "outputs": [
    {
     "data": {
      "image/png": "[encoded data removed]",
      "text/plain": [
       "<Figure size 576x684 with 1 Axes>"
      ]
     },
     "metadata": {
      "needs_background": "light"
     },
     "output_type": "display_data"
    }
   ],
   "source": [
    "shap.summary_plot(shap_values[1], X, plot_type=\"bar\")"
   ]
  },
  {
   "cell_type": "markdown",
   "id": "5396444f",
   "metadata": {},
   "source": [
    "# Neural Networks"
   ]
  },
  {
   "cell_type": "code",
   "execution_count": 8,
   "id": "43084ac8",
   "metadata": {},
   "outputs": [
    {
     "name": "stdout",
     "output_type": "stream",
     "text": [
      "{'Neural_Network__hidden_layer_sizes': 100}\n",
      "0.792613424680877\n"
     ]
    }
   ],
   "source": [
    "from sklearn.pipeline import Pipeline\n",
    "from sklearn.model_selection import GridSearchCV\n",
    "from sklearn.preprocessing import StandardScaler\n",
    "from sklearn.neural_network import MLPClassifier\n",
    "\n",
    "estimators = [('Scaler', StandardScaler()), \n",
    "              ('Neural_Network', MLPClassifier(\n",
    "                  random_state=seed, \n",
    "                  activation='logistic', \n",
    "                  solver='sgd', \n",
    "                  max_iter=1000))]\n",
    "pipe = Pipeline(estimators)\n",
    "\n",
    "parameters = {\n",
    "    'Neural_Network__hidden_layer_sizes': [(50), (80), (100), (120)]\n",
    "}\n",
    "\n",
    "clf = GridSearchCV(pipe, parameters, scoring='roc_auc')\n",
    "clf.fit(X_train, y_train)\n",
    "\n",
    "print(clf.best_params_)\n",
    "print(clf.best_score_)"
   ]
  },
  {
   "cell_type": "code",
   "execution_count": 27,
   "id": "85dcc185",
   "metadata": {},
   "outputs": [
    {
     "name": "stdout",
     "output_type": "stream",
     "text": [
      "ROC AUC: 0.8054312071262223\n",
      "Average Precision: 0.7311933074904147\n",
      "Accuracy: 0.7534747622531089\n"
     ]
    }
   ],
   "source": [
    "from sklearn.pipeline import Pipeline\n",
    "from sklearn.preprocessing import StandardScaler\n",
    "from sklearn.neural_network import MLPClassifier\n",
    "\n",
    "from sklearn.metrics import roc_auc_score\n",
    "from sklearn.metrics import average_precision_score\n",
    "from sklearn.metrics import accuracy_score\n",
    "\n",
    "estimators = [('Scaler', StandardScaler()), \n",
    "              ('Neural_Network', MLPClassifier(\n",
    "                  hidden_layer_sizes=(100),\n",
    "                  random_state=seed, \n",
    "                  activation='logistic', \n",
    "                  solver='sgd', \n",
    "                  max_iter=1000))]\n",
    "pipe = Pipeline(estimators)\n",
    "\n",
    "pipe.fit(X_train, y_train)\n",
    "\n",
    "roc_auc = roc_auc_score(y_test, pipe.predict_proba(X_test)[:, 1])\n",
    "print(\"ROC AUC: \" + str(roc_auc))\n",
    "\n",
    "average_precision = average_precision_score(y_test, pipe.predict_proba(X_test)[:, 1])\n",
    "print(\"Average Precision: \" + str(average_precision))\n",
    "\n",
    "accuracy = accuracy_score(y_test, pipe.predict(X_test))\n",
    "print(\"Accuracy: \" + str(accuracy))"
   ]
  },
  {
   "cell_type": "code",
   "execution_count": 28,
   "id": "b1bec9e2",
   "metadata": {},
   "outputs": [
    {
     "name": "stdout",
     "output_type": "stream",
     "text": [
      "(0.81295744905501, 0.805772241329933, 0.820142656780087, 0.007185207725076973)\n",
      "(0.7477211404599216, 0.7378243668503451, 0.757617914069498, 0.00989677360957638)\n",
      "(0.76, 0.7526471086337699, 0.7673528913662301, 0.007352891366230093)\n"
     ]
    }
   ],
   "source": [
    "from sklearn.utils import resample\n",
    "\n",
    "auroc_array = []\n",
    "auprc_array = []\n",
    "accuracy_array = []\n",
    "\n",
    "predictions = pipe.predict(X_test)\n",
    "probs = pipe.predict_proba(X_test)[:, 1]\n",
    "\n",
    "for i in range(50):\n",
    "    X_test_bs = resample(X_test, n_samples=200, replace=False, stratify=y_test,\n",
    "             random_state=i)\n",
    "    y_test_bs = y_test[X_test_bs.index]\n",
    "    \n",
    "    # scores_bs = scores[X_test_bs.index]\n",
    "    probs_bs = probs[X_test_bs.index]\n",
    "    predictions_bs = predictions[X_test_bs.index]\n",
    "\n",
    "    # scores,probs,predictions = explainer.predict_calculator(X_test_bs, 1)\n",
    "    auroc = roc_auc_score(y_test_bs, probs_bs)\n",
    "    auprc = average_precision_score(y_test_bs, probs_bs)\n",
    "    accuracy = accuracy_score(y_test_bs, predictions_bs)\n",
    "    \n",
    "    auroc_array.append(auroc)\n",
    "    auprc_array.append(auprc)\n",
    "    accuracy_array.append(accuracy)\n",
    "    \n",
    "\n",
    "print(mean_confidence_interval(auroc_array))\n",
    "print(mean_confidence_interval(auprc_array))\n",
    "print(mean_confidence_interval(accuracy_array))"
   ]
  },
  {
   "cell_type": "code",
   "execution_count": 20,
   "id": "61b65da3",
   "metadata": {},
   "outputs": [
    {
     "data": {
      "application/vnd.jupyter.widget-view+json": {
       "model_id": "4ac39e0db1944d4e88e47bb8b06dfef5",
       "version_major": 2,
       "version_minor": 0
      },
      "text/plain": [
       "  0%|          | 0/1367 [00:00<?, ?it/s]"
      ]
     },
     "metadata": {},
     "output_type": "display_data"
    }
   ],
   "source": [
    "import shap\n",
    "\n",
    "from warnings import simplefilter\n",
    "simplefilter(action='ignore', category=FutureWarning)\n",
    "\n",
    "explainer = shap.KernelExplainer(pipe.predict, X_train[:50].values)\n",
    "shap_values = explainer.shap_values(X_test.values, nsamples=500)\n"
   ]
  },
  {
   "cell_type": "code",
   "execution_count": 36,
   "id": "072b8d8d",
   "metadata": {},
   "outputs": [
    {
     "data": {
      "text/plain": [
       "array([[ 0.00786208,  0.00901361,  0.        , ..., -0.06720624,\n",
       "         0.05710933, -0.02560792],\n",
       "       [ 0.        ,  0.        ,  0.01807418, ..., -0.00391495,\n",
       "        -0.07771597, -0.02211828],\n",
       "       [-0.02941796,  0.00526275,  0.02747771, ..., -0.01311345,\n",
       "        -0.13817497,  0.        ],\n",
       "       ...,\n",
       "       [ 0.03959156, -0.00425989,  0.0294009 , ..., -0.00256345,\n",
       "        -0.14470767,  0.        ],\n",
       "       [ 0.11084023, -0.04702837, -0.10977892, ...,  0.        ,\n",
       "         0.11031366, -0.07043524],\n",
       "       [ 0.02120194,  0.00424944,  0.00194474, ..., -0.01409941,\n",
       "        -0.16799205, -0.0401091 ]])"
      ]
     },
     "execution_count": 36,
     "metadata": {},
     "output_type": "execute_result"
    }
   ],
   "source": [
    "shap_values"
   ]
  },
  {
   "cell_type": "code",
   "execution_count": 25,
   "id": "abfa9988",
   "metadata": {},
   "outputs": [
    {
     "data": {
      "image/png": "[encoded data removed]",
      "text/plain": [
       "<Figure size 576x684 with 2 Axes>"
      ]
     },
     "metadata": {
      "needs_background": "light"
     },
     "output_type": "display_data"
    }
   ],
   "source": [
    "shap.summary_plot(shap_values, X_test)"
   ]
  },
  {
   "cell_type": "markdown",
   "id": "f56d65aa",
   "metadata": {},
   "source": [
    "# Post processing required for risk slim baseline "
   ]
  },
  {
   "cell_type": "code",
   "execution_count": null,
   "id": "cd5f90fc",
   "metadata": {},
   "outputs": [],
   "source": [
    "import numpy as np\n",
    "\n",
    "from sklearn.experimental import enable_iterative_imputer\n",
    "from sklearn.impute import IterativeImputer\n",
    "\n",
    "from sklearn.preprocessing import MinMaxScaler\n",
    "from sklearn.feature_selection import SelectKBest\n",
    "from sklearn.feature_selection import chi2\n",
    "\n",
    "X = data.drop(['28 Day Death', 'In Hospital Death'], axis=1)\n",
    "y = data['28 Day Death']\n",
    "\n",
    "X_train, X_test, y_train, y_test = train_test_split(\n",
    "    X, y, test_size=0.3, random_state=seed)\n",
    "\n",
    "imp = IterativeImputer(max_iter=10, random_state=seed)\n",
    "imp.fit(X_train)\n",
    "\n",
    "X_train = pd.DataFrame(imp.transform(X_train), columns=X.columns)\n",
    "X_test = pd.DataFrame(imp.transform(X_test), columns=X.columns)\n",
    "y_train = y_train.reset_index(drop=True)\n",
    "y_test = y_test.reset_index(drop=True)\n",
    "\n",
    "top_n = 10\n",
    "scaler = MinMaxScaler()\n",
    "kbest = SelectKBest(chi2, k=top_n)\n",
    "scaler.fit(X_train)\n",
    "\n",
    "X_train = kbest.fit_transform(scaler.transform(X_train), y_train)\n",
    "X_test = kbest.transform(scaler.transform(X_test))\n",
    "\n",
    "X_train = pd.DataFrame(X_train, columns=X.columns[kbest.get_support()])\n",
    "X_test = pd.DataFrame(X_test, columns=X.columns[kbest.get_support()])\n",
    "\n",
    "# data_train = pd.read_csv('data_train.csv')\n",
    "# X = data_train.iloc[:, 1:]\n",
    "# y = data_train.iloc[:, :1]\n",
    "\n",
    "# kbest.fit(scaler.fit_transform(X_train), y_train)\n",
    "# variables = X.columns[kbest.get_support()]\n",
    "\n",
    "\n",
    "X_train.insert(0, '28 Day Death', y_train)\n",
    "X_train.to_csv('data_train.csv', index=False)\n",
    "X_test.insert(0, '28 Day Death', y_test)\n",
    "X_test.to_csv('data_test.csv', index=False)\n"
   ]
  }
 ],
 "metadata": {
  "kernelspec": {
   "display_name": "Python 3 (ipykernel)",
   "language": "python",
   "name": "python3"
  },
  "language_info": {
   "codemirror_mode": {
    "name": "ipython",
    "version": 3
   },
   "file_extension": ".py",
   "mimetype": "text/x-python",
   "name": "python",
   "nbconvert_exporter": "python",
   "pygments_lexer": "ipython3",
   "version": "3.9.7"
  }
 },
 "nbformat": 4,
 "nbformat_minor": 5
}
